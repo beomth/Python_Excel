{
 "cells": [
  {
   "cell_type": "markdown",
   "id": "c70136b6",
   "metadata": {},
   "source": [
    "##### 3-3-7) 파일 저장 옵션\n",
    "\n",
    "##### Save()\n",
    "##### SaveAs()\n",
    "##### ExportAsFixedFormat()"
   ]
  },
  {
   "cell_type": "code",
   "execution_count": 1,
   "id": "251f1981",
   "metadata": {},
   "outputs": [],
   "source": [
    "import win32com.client\n",
    "import pythoncom\n",
    "\n",
    "pythoncom.CoInitialize()\n",
    "\n",
    "excel = win32com.client.Dispatch(\"Excel.Application\")\n",
    "\n",
    "excel.Visible = True\n",
    "\n",
    "#Workbook 객체 생성(새로 추가)\n",
    "wb = excel.Workbooks.Add()"
   ]
  },
  {
   "cell_type": "code",
   "execution_count": null,
   "id": "fd9e2509",
   "metadata": {},
   "outputs": [],
   "source": [
    "#Save() 함수를 사용할 때 대상이 되는 객체는 Workbook이다.\n",
    "#Workbook(통합문서) 저장 - 내pc/문서\n",
    "wb.Save()"
   ]
  },
  {
   "cell_type": "code",
   "execution_count": 3,
   "id": "297326bc",
   "metadata": {},
   "outputs": [],
   "source": [
    "#\"Workbook객체\".SaveAs(파일명, 파일포맷, 비밀번호....)\n",
    "path = r\"C:\\Users\\ASUS\\Desktop\\Python\"\n",
    "\n",
    "#저장\n",
    "wb.SaveAs(path+\"/test1.xlsx\")"
   ]
  },
  {
   "cell_type": "code",
   "execution_count": 5,
   "id": "e5a824f8",
   "metadata": {},
   "outputs": [],
   "source": [
    "path = r\"C:\\Users\\ASUS\\Desktop\\Python\"\n",
    "#.csv 확장자로 저장(file format=6)\n",
    "wb.SaveAs(path+\"/test2\", 6)"
   ]
  },
  {
   "cell_type": "markdown",
   "id": "11658f7d",
   "metadata": {},
   "source": [
    "##### Worksheet객체.ExportAsFixedFormat(Type, FileName, From, To)\n",
    "##### Excel -> PDF\n",
    "##### 자주 사용되는 옵션은 Type, FileName, From, To"
   ]
  },
  {
   "cell_type": "code",
   "execution_count": 6,
   "id": "40b5993e",
   "metadata": {},
   "outputs": [],
   "source": [
    "import win32com.client\n",
    "import pythoncom\n",
    "\n",
    "pythoncom.CoInitialize()\n",
    "excel = win32com.client.Dispatch(\"Excel.Application\")\n",
    "excel.Visible = True\n",
    "\n",
    "wb = excel.Workbooks.Add()\n",
    "ws = wb.ActiveSheet\n",
    "\n",
    "#1행1열에 텍스트 입력\n",
    "ws.cells(1,1).Value = \"사장님 몰래 하는 파이썬 업무자동화\"\n"
   ]
  },
  {
   "cell_type": "code",
   "execution_count": 11,
   "id": "e9bd5cf0",
   "metadata": {},
   "outputs": [],
   "source": [
    "#From, To는 생략하면 설정된 페이지 영역을 모두 저장\n",
    "path = r\"C:\\Users\\ASUS\\Desktop\\Python\"\n",
    "\n",
    "#pdf파일로 저장하기\n",
    "ws.ExportAsFixedFormat(Type=0, Filename=path+\"/test.pdf\", From=1, To=1)"
   ]
  },
  {
   "cell_type": "code",
   "execution_count": null,
   "id": "bb7b97d0",
   "metadata": {},
   "outputs": [],
   "source": []
  }
 ],
 "metadata": {
  "kernelspec": {
   "display_name": "Python 3",
   "language": "python",
   "name": "python3"
  },
  "language_info": {
   "codemirror_mode": {
    "name": "ipython",
    "version": 3
   },
   "file_extension": ".py",
   "mimetype": "text/x-python",
   "name": "python",
   "nbconvert_exporter": "python",
   "pygments_lexer": "ipython3",
   "version": "3.13.4"
  }
 },
 "nbformat": 4,
 "nbformat_minor": 5
}
