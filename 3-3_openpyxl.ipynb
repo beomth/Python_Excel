{
 "cells": [
  {
   "cell_type": "markdown",
   "id": "9eaa3bca",
   "metadata": {},
   "source": [
    "##### 3-3) win32com 소개\n",
    "##### Win32com은 Microsoft에서 제공하는 윈도우 프로그램을 파이썬이라는 언어를 매개체로 제어할 수 있도록 만든 API입니다. Win32com을 사용하면 Microsoft Excel, Power point, Word, Outlook 등 프로그램을 제어할 수 있습니다.\n",
    "#####  Openpyxl과 대표적인 차이점이라면, Win32com을 사용했을 때 엑셀 실행 상태에서 제어가 가능하다라는 점을 들 수 있습니다. Openpyxl은 해당 엑셀파일을 실행하면 파이썬 코드에서 접근이 불가능합니다. Win32com 을 사용하여 엑셀을 제어하면 실행상태를 바로 볼 수 있어 편리해집니다.(실시간 확인 가능)\n",
    "##### 두번째는, 좀더 엑셀 기능적인 측면에서 접근할 수 있습니다. 쉽게 설명하자면 엑셀에서의 자동 줄채우기 기능, 복사 붙여넣기 등 실제 엑셀 프로그램에서 사용하는 기능을 함수 하나로 대체하여 사용할 수 있습니다."
   ]
  },
  {
   "cell_type": "markdown",
   "id": "5d9d3fd6",
   "metadata": {},
   "source": []
  },
  {
   "cell_type": "markdown",
   "id": "4f7b78a3",
   "metadata": {},
   "source": [
    "##### 3-3-2) Win23com 설치"
   ]
  },
  {
   "cell_type": "code",
   "execution_count": 2,
   "id": "07fcb0fe",
   "metadata": {},
   "outputs": [],
   "source": [
    "import win32com.client\n",
    "\n",
    "# \"excel\"이라는 변수에 엑셀 프로그램 객체를 설정해주는 것\n",
    "# 액셀 프로그램 직접 실행\n",
    "# 엑셀 대신 InternetExplorer.Application이나 다른 것들을 바인딩 가능\n",
    "excel = win32com.client.Dispatch(\"Excel.Application\") \n",
    "excel.Visible = True # 앞으로 실행과정을 보이게"
   ]
  },
  {
   "cell_type": "markdown",
   "id": "26d718a6",
   "metadata": {},
   "source": [
    "##### 3-3-3) Workbook 및 Worksheet 객체 생성"
   ]
  },
  {
   "cell_type": "code",
   "execution_count": null,
   "id": "d8a8e4d3",
   "metadata": {},
   "outputs": [],
   "source": []
  }
 ],
 "metadata": {
  "kernelspec": {
   "display_name": "Python 3",
   "language": "python",
   "name": "python3"
  },
  "language_info": {
   "codemirror_mode": {
    "name": "ipython",
    "version": 3
   },
   "file_extension": ".py",
   "mimetype": "text/x-python",
   "name": "python",
   "nbconvert_exporter": "python",
   "pygments_lexer": "ipython3",
   "version": "3.13.4"
  }
 },
 "nbformat": 4,
 "nbformat_minor": 5
}
