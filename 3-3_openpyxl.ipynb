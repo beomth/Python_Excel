{
 "cells": [
  {
   "cell_type": "markdown",
   "id": "9eaa3bca",
   "metadata": {},
   "source": [
    "##### 3-3) win32com 소개\n",
    "##### Win32com은 Microsoft에서 제공하는 윈도우 프로그램을 파이썬이라는 언어를 매개체로 제어할 수 있도록 만든 API입니다. Win32com을 사용하면 Microsoft Excel, Power point, Word, Outlook 등 프로그램을 제어할 수 있습니다.\n",
    "#####  Openpyxl과 대표적인 차이점이라면, Win32com을 사용했을 때 엑셀 실행 상태에서 제어가 가능하다라는 점을 들 수 있습니다. Openpyxl은 해당 엑셀파일을 실행하면 파이썬 코드에서 접근이 불가능합니다. Win32com 을 사용하여 엑셀을 제어하면 실행상태를 바로 볼 수 있어 편리해집니다.(실시간 확인 가능)\n",
    "##### 두번째는, 좀더 엑셀 기능적인 측면에서 접근할 수 있습니다. 쉽게 설명하자면 엑셀에서의 자동 줄채우기 기능, 복사 붙여넣기 등 실제 엑셀 프로그램에서 사용하는 기능을 함수 하나로 대체하여 사용할 수 있습니다."
   ]
  },
  {
   "cell_type": "markdown",
   "id": "5d9d3fd6",
   "metadata": {},
   "source": []
  },
  {
   "cell_type": "markdown",
   "id": "4f7b78a3",
   "metadata": {},
   "source": [
    "##### 3-3-2) Win23com 설치"
   ]
  },
  {
   "cell_type": "code",
   "execution_count": 2,
   "id": "07fcb0fe",
   "metadata": {},
   "outputs": [],
   "source": [
    "import win32com.client\n",
    "\n",
    "# \"excel\"이라는 변수에 엑셀 프로그램 객체를 설정해주는 것\n",
    "# 액셀 프로그램 직접 실행\n",
    "# 엑셀 대신 InternetExplorer.Application이나 다른 것들을 바인딩 가능\n",
    "excel = win32com.client.Dispatch(\"Excel.Application\") \n",
    "excel.Visible = True # 앞으로 실행과정을 보이게"
   ]
  },
  {
   "cell_type": "markdown",
   "id": "26d718a6",
   "metadata": {},
   "source": [
    "##### 3-3-3) Workbook 및 Worksheet 객체 생성"
   ]
  },
  {
   "cell_type": "code",
   "execution_count": null,
   "id": "d8a8e4d3",
   "metadata": {},
   "outputs": [],
   "source": [
    "wb = excel.Workbooks.Add() #액셀 프로그램에 Workbook 추가(객체 설정)\n",
    "ws = wb.Worksheets(\"sheet1\") #Worksheet 설정/ openpyxl이랑 문법이 조금 다름\n",
    "\n",
    "#원래 있는 파일을 Workbook 객체로 생성하고 싶다면?\n",
    "#wb = excel.Workbooks.Open(r\"경로/파일이름.xlsx\")\n"
   ]
  },
  {
   "cell_type": "markdown",
   "id": "51732725",
   "metadata": {},
   "source": [
    "##### 3-3-4) Cell에 데이터 써보기"
   ]
  },
  {
   "cell_type": "code",
   "execution_count": 5,
   "id": "b6af831e",
   "metadata": {},
   "outputs": [],
   "source": [
    "#셀 row, col 값 지정하여 값넣기(Range(\"A1\")과 동일함)\n",
    "ws.Cells(1,1).Value = \"win32com excel test1\"\n",
    "\n",
    "#range로 값 넣기(Cell(1,2)와 동일함)\n",
    "ws.Range(\"A2\").Value = \"win32com excel test2\"\n",
    "\n",
    "#range로 다중범위 지정해서 값넣기 1\n",
    "ws.Range(\"A3:C3\").Value = \"win32com excel test3\"\n",
    "\n",
    "#range로 다중범위 지정해서 값넣기 2(위 코드랑 동일)\n",
    "ws.Range(ws.Cells(3,1), ws.Cells(3,3)).Value = \"win32com excel test3\""
   ]
  },
  {
   "cell_type": "code",
   "execution_count": 6,
   "id": "c1f07725",
   "metadata": {},
   "outputs": [
    {
     "data": {
      "text/plain": [
       "True"
      ]
     },
     "execution_count": 6,
     "metadata": {},
     "output_type": "execute_result"
    }
   ],
   "source": [
    "#자동채우기\n",
    "ws.Range('A1:A3').AutoFill(ws.Range(\"A1:A10\"))"
   ]
  },
  {
   "cell_type": "markdown",
   "id": "5999d5bf",
   "metadata": {},
   "source": [
    "##### 3-3-5) Cell data 복사/붙여넣기"
   ]
  },
  {
   "cell_type": "code",
   "execution_count": null,
   "id": "6203c800",
   "metadata": {},
   "outputs": [],
   "source": [
    "#Copy & Select, Paste\n",
    "\n",
    "ws.Range(\"A1:A10\").Copy() # \"A1:A10\" 데이터 복사하기\n",
    "ws.Range(\"B1\").Select() #붙여넣기 할 위치 선택\n",
    "ws.Paste() #붙여넣기 실행"
   ]
  },
  {
   "cell_type": "markdown",
   "id": "2d79ee13",
   "metadata": {},
   "source": [
    "##### 3-3-6) 파일 저장하기"
   ]
  },
  {
   "cell_type": "code",
   "execution_count": null,
   "id": "cf62e92c",
   "metadata": {},
   "outputs": [],
   "source": [
    "#디폴트는 내PC-문서 에 \"통합문서\"로 저장됨\n",
    "#역슬래시 사용\n",
    "wb.SaveAs(r\"C:\\Users\\ASUS\\Desktop\\Python\\win32com.xlsx\")"
   ]
  },
  {
   "cell_type": "markdown",
   "id": "4c24f6cf",
   "metadata": {},
   "source": [
    "##### 3-3-7) 액셀 Application\n",
    "###### 사용하지 않는 프로그램을 열어두면 메모리 점유율 측면에서 안좋다"
   ]
  },
  {
   "cell_type": "code",
   "execution_count": 10,
   "id": "6ffdbc5f",
   "metadata": {},
   "outputs": [],
   "source": [
    "excel.Quit()"
   ]
  },
  {
   "cell_type": "code",
   "execution_count": null,
   "id": "f7080bc4",
   "metadata": {},
   "outputs": [],
   "source": []
  }
 ],
 "metadata": {
  "kernelspec": {
   "display_name": "Python 3",
   "language": "python",
   "name": "python3"
  },
  "language_info": {
   "codemirror_mode": {
    "name": "ipython",
    "version": 3
   },
   "file_extension": ".py",
   "mimetype": "text/x-python",
   "name": "python",
   "nbconvert_exporter": "python",
   "pygments_lexer": "ipython3",
   "version": "3.13.4"
  }
 },
 "nbformat": 4,
 "nbformat_minor": 5
}
