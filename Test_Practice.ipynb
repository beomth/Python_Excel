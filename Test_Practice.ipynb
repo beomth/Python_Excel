{
 "cells": [
  {
   "cell_type": "markdown",
   "id": "c6ad06eb",
   "metadata": {},
   "source": [
    "##### 6-1) 액셀 서식 지정하기 - 기본 (Font)"
   ]
  },
  {
   "cell_type": "code",
   "execution_count": 1,
   "id": "fef13d3f",
   "metadata": {},
   "outputs": [],
   "source": [
    "import openpyxl as op\n",
    "from openpyxl.styles.fonts import Font\n",
    "\n",
    "#Workbook 및 Worksheet 객체 설정하기\n",
    "wb = op.Workbook()\n",
    "ws = wb.active\n",
    "\n",
    "#font test1 : 직접 font 설정하기\n",
    "ws[\"A1\"].value = \"Font test1\"\n",
    "ws[\"A1\"].font = Font(size=20, italic=True, bold=True)\n",
    "\n",
    "#font test2 : format을 정해놓고 font 설정하기\n",
    "ws[\"A2\"].value = \"Font Test2\"\n",
    "font_format = Font(size=12, name='굴림', color='FF000000')\n",
    "ws[\"A2\"].font = font_format\n",
    "\n",
    "#Workbook(액셀 저장 및 객체 닫기)\n",
    "wb.save(\"test.xlsx\")\n",
    "wb.close()"
   ]
  },
  {
   "cell_type": "markdown",
   "id": "ace48332",
   "metadata": {},
   "source": [
    "##### 6-2) Border, Side(테두리)"
   ]
  },
  {
   "cell_type": "code",
   "execution_count": 8,
   "id": "975079fc",
   "metadata": {},
   "outputs": [],
   "source": [
    "\n",
    "from openpyxl.styles import Border, Side\n",
    "from openpyxl.styles.colors import Color\n",
    "\n",
    "#Workbook 객체 생성 및 Sheet 설정\n",
    "path = \"C:/Users/ASUS/Desktop/Python\"\n",
    "wb = op.load_workbook(path + \"/test.xlsx\")\n",
    "wb.create_sheet(\"sheet2\")\n",
    "wb.save(\"test.xlsx\")\n",
    "ws = wb[\"sheet2\"]\n",
    "\n",
    "#'C3'에 값 입력\n",
    "ws[\"C3\"].value = \"1개 Cell\"\n",
    "\n",
    "wb.save(\"test.xlsx\")\n",
    "wb.close()"
   ]
  },
  {
   "cell_type": "code",
   "execution_count": 13,
   "id": "7915c283",
   "metadata": {},
   "outputs": [],
   "source": [
    "#border test1 : 위에는 실선, 아래에는 이중선 적용 예시 코드\n",
    "# \"000000\" : 검은색\n",
    "# \"FF0000\" : 빨간색\n",
    "# \"0000FF\" : 파란색 \n",
    "top_styles = Side(border_style=\"thin\", color=\"FF0000\")\n",
    "bottom_styles = Side(border_style=\"double\")\n",
    "\n",
    "ws[\"C3\"].border = Border(top=top_styles, bottom=bottom_styles)\n",
    "\n",
    "#객체 저장 및 닫기\n",
    "wb.save(\"test.xlsx\")\n",
    "wb.close()"
   ]
  },
  {
   "cell_type": "markdown",
   "id": "a7dff685",
   "metadata": {},
   "source": [
    "##### 6-2) Alignment"
   ]
  },
  {
   "cell_type": "code",
   "execution_count": 17,
   "id": "a0a902b9",
   "metadata": {},
   "outputs": [],
   "source": [
    "from openpyxl.styles import Alignment\n",
    "\n",
    "#Workbook 객체 생성 및 Sheet 설정\n",
    "path = \"C:/Users/ASUS/Desktop/Python\"\n",
    "wb = op.load_workbook(path + \"/test.xlsx\")\n",
    "ws = wb[\"sheet2\"]\n",
    "\n",
    "# \"D2\"와 \"D4\"에 Text 입력\n",
    "ws[\"D2\"].value = \"Alignment Test1\"\n",
    "ws[\"D4\"].value = \"Alignment Test2\"\n",
    "\n",
    "#셀 너비, 높이 설정하기\n",
    "ws.row_dimensions[2].height = 50 #2행의 높이 50으로\n",
    "ws.row_dimensions[4].height = 50 #4행의 높이 50으로\n",
    "ws.column_dimensions['D'].width = 50 #C열의 너비 50으로\n",
    "\n",
    "#Alignment test1\n",
    "format1 = Alignment(horizontal='center', vertical='center') #center, left, right\n",
    "ws[\"D4\"].alignment = format1\n",
    "format2 = Alignment(horizontal='right', vertical='center')\n",
    "ws[\"D2\"].alignment = format2\n",
    "\n",
    "#Save\n",
    "wb.save(\"test.xlsx\")\n",
    "wb.close()\n"
   ]
  },
  {
   "cell_type": "markdown",
   "id": "d56e41a7",
   "metadata": {},
   "source": [
    "##### 6-4) PatternFill(채우기)"
   ]
  },
  {
   "cell_type": "code",
   "execution_count": 21,
   "id": "2d340e0a",
   "metadata": {},
   "outputs": [],
   "source": [
    "from openpyxl.styles import PatternFill\n",
    "\n",
    "#Workbook 생성 및 시트 설정\n",
    "wb = op.load_workbook(r\"test.xlsx\")\n",
    "ws = wb[\"sheet2\"]\n",
    "\n",
    "#PatternFill test1 : green\n",
    "green = PatternFill(fill_type='solid', fgColor=\"00FF00\")\n",
    "black = PatternFill(fill_type='solid', fgColor=\"000000\")\n",
    "red   = PatternFill(fill_type='solid', fgColor=\"FF0000\")\n",
    "\n",
    "ws[\"E3\"].fill = green\n",
    "ws[\"E4\"].fill = black\n",
    "ws[\"E5\"].fill = red\n",
    "\n",
    "wb.save(r\"test.xlsx\")\n",
    "wb.close()\n"
   ]
  },
  {
   "cell_type": "markdown",
   "id": "8514369b",
   "metadata": {},
   "source": [
    "##### 6-5) Protection\n",
    "###### 특정 셀 숨김/잠금 속성"
   ]
  },
  {
   "cell_type": "code",
   "execution_count": 22,
   "id": "ea87114e",
   "metadata": {},
   "outputs": [],
   "source": [
    "from openpyxl.styles import Protection\n",
    "\n",
    "#Workbook 생성 및 시트 설정\n",
    "wb = op.load_workbook(r\"test.xlsx\")\n",
    "ws = wb[\"sheet2\"]\n",
    "\n",
    "#text 입력하기\n",
    "ws[\"F3\"].value = \"Protection test1 : loeckd\"\n",
    "ws[\"F4\"].value = \"Protection test2 : hidden\"\n",
    "\n",
    "#Protection 속성 설정하기(숨김/잠금)\n",
    "ws[\"F3\"].protection = Protection(locked=True, hidden=True)\n",
    "ws[\"F4\"].protection = Protection(locked=False, hidden=False)\n",
    "\n",
    "#엑셀 파일 저장 및 객체 닫기\n",
    "wb.save(r\"test.xlsx\")\n",
    "wb.close()\n"
   ]
  },
  {
   "cell_type": "code",
   "execution_count": null,
   "id": "3f978ace",
   "metadata": {},
   "outputs": [],
   "source": []
  }
 ],
 "metadata": {
  "kernelspec": {
   "display_name": "Python 3",
   "language": "python",
   "name": "python3"
  },
  "language_info": {
   "codemirror_mode": {
    "name": "ipython",
    "version": 3
   },
   "file_extension": ".py",
   "mimetype": "text/x-python",
   "name": "python",
   "nbconvert_exporter": "python",
   "pygments_lexer": "ipython3",
   "version": "3.13.4"
  }
 },
 "nbformat": 4,
 "nbformat_minor": 5
}
