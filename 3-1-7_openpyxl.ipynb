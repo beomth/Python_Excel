{
 "cells": [
  {
   "cell_type": "markdown",
   "id": "b2d4be62",
   "metadata": {},
   "source": [
    "#### 3-1-7) 조건부서식\n",
    "##### 7-1) 조건부서식\n",
    "##### 7-2) 합격/불합격에 대한 조건부 서식 적용하기"
   ]
  },
  {
   "cell_type": "code",
   "execution_count": 5,
   "id": "560cab67",
   "metadata": {},
   "outputs": [],
   "source": [
    "import openpyxl as op\n",
    "from openpyxl.styles.fonts import Font\n",
    "\n",
    "#test 액셀 파일이 있는 경로 지정\n",
    "path = r\"C:/Users/ASUS/Desktop/Python/\"\n",
    "\n",
    "#Workbook 객체 생성\n",
    "wb = op.load_workbook(path + \"조건부서식 test.xlsx\", data_only=True)\n",
    "ws = wb.active #Worksheet 객체 생성\n",
    "\n",
    "#합/불 판정해주는 함수\n",
    "def passfail():\n",
    "    #최대 행값 구하기\n",
    "    max_row = ws.max_row\n",
    "    #최대 행값 활용하여 for문 (2행부터~최대행까지)\n",
    "    for row_index in range(2, max_row+1):\n",
    "        #평균값 데이터를 average 변수에 저장\n",
    "        average = ws.cell(row=row_index, column=5).value\n",
    "        #평균이 70점 이상이면 '합격'\n",
    "        if average >= 70:\n",
    "            ws.cell(row=row_index, column=6).value=\"합격\"\n",
    "        else:\n",
    "            ws.cell(row=row_index, column=6).value=\"불합격\"\n",
    "\n",
    "#조건부서식 적용 함수\n",
    "def conditionFormat():\n",
    "    pass_format = Font(size=14, name='굴림', color = '000000FF')\n",
    "    fail_format = Font(size=14, name='굴림', color = '00FF0000')\n",
    "    max_row = ws.max_row\n",
    "    \n",
    "    for row_index in range(2, max_row+1):\n",
    "        result_str = ws.cell(row = row_index, column=6).value\n",
    "        if result_str == \"합격\" :\n",
    "            ws.cell(row=row_index, column=6).font = pass_format\n",
    "        else :\n",
    "            ws.cell(row=row_index, column=6).font = fail_format\n",
    "\n",
    "\n",
    "#실행부\n",
    "if __name__ == \"__main__\":\n",
    "    passfail()\n",
    "    conditionFormat()\n",
    "    wb.save(\"조건부서식 test.xlsx\")"
   ]
  },
  {
   "cell_type": "markdown",
   "id": "e0e6283d",
   "metadata": {},
   "source": [
    "#### 3-1-8) Worksheet(=Sheet) 조작하기"
   ]
  },
  {
   "cell_type": "code",
   "execution_count": 6,
   "id": "bd099f91",
   "metadata": {},
   "outputs": [
    {
     "name": "stdout",
     "output_type": "stream",
     "text": [
      "['Sheet']\n"
     ]
    }
   ],
   "source": [
    "import openpyxl as op\n",
    "\n",
    "#새로운 Workbook 객체 생성\n",
    "wb = op.Workbook()\n",
    "\n",
    "#새로운 Workbook의 시트명 리스트 출력해보기\n",
    "print(wb.sheetnames)"
   ]
  },
  {
   "cell_type": "markdown",
   "id": "86f1ba6e",
   "metadata": {},
   "source": [
    "##### 8-1) 시트 생성/삭제하기 !!!!!!!!!항상 wb.save() 넣기!!!!!!!!!!\n",
    "##### create_sheet 함수 사용법 : \n",
    "##### 'Workbook 객체명'.create_sheet('시트명', 위치값(정수))"
   ]
  },
  {
   "cell_type": "code",
   "execution_count": 7,
   "id": "262f545a",
   "metadata": {},
   "outputs": [
    {
     "name": "stdout",
     "output_type": "stream",
     "text": [
      "['Sheet', '연습']\n"
     ]
    }
   ],
   "source": [
    "import openpyxl as op\n",
    "\n",
    "wb = op.Workbook()\n",
    "\n",
    "#시트 새로 생성하기(create sheet)\n",
    "ws = wb.create_sheet(\"연습\")\n",
    "print(wb.sheetnames)"
   ]
  },
  {
   "cell_type": "code",
   "execution_count": 17,
   "id": "90d86b3f",
   "metadata": {},
   "outputs": [
    {
     "name": "stdout",
     "output_type": "stream",
     "text": [
      "첫번째 :  ['첫번째', 'sheet1']\n",
      "뒤에서 두번째 :  ['첫번째', '뒤에서 두번째', 'sheet1']\n",
      "두번째 :  ['첫번째', '두번째', '뒤에서 두번째', 'sheet1']\n",
      "세번째 :  ['첫번째', '두번째', '세번째', '뒤에서 두번째', 'sheet1']\n"
     ]
    }
   ],
   "source": [
    "from openpyxl import load_workbook\n",
    "\n",
    "wb = load_workbook(\"조건부서식 test.xlsx\")\n",
    "ws = wb.active\n",
    "\n",
    "wb.save(\"조건부서식 test.xlsx\")\n",
    "\n",
    "ws = wb.create_sheet(\"첫번째\", 0)\n",
    "print(\"첫번째 : \", wb.sheetnames)\n",
    "\n",
    "ws = wb.create_sheet(\"뒤에서 두번째\", -1)\n",
    "print(\"뒤에서 두번째 : \", wb.sheetnames)\n",
    "\n",
    "ws = wb.create_sheet(\"두번째\", 1)\n",
    "print(\"두번째 : \", wb.sheetnames)\n",
    "\n",
    "ws = wb.create_sheet(\"세번째\", 2)\n",
    "print(\"세번째 : \", wb.sheetnames)\n",
    "\n",
    "wb.save(r\"조건부서식 test.xlsx\")"
   ]
  },
  {
   "cell_type": "markdown",
   "id": "df2d8c7b",
   "metadata": {},
   "source": [
    "##### 8-2) 시트 삭제\n",
    "##### remove 사용법 :\n",
    "##### 'Workbook 객체명'.remove('Workbook 개게명'['Sheet명'])"
   ]
  },
  {
   "cell_type": "code",
   "execution_count": 20,
   "id": "7a323e78",
   "metadata": {},
   "outputs": [
    {
     "name": "stdout",
     "output_type": "stream",
     "text": [
      "원본 :  ['두번째', '세번째', '뒤에서 두번째', 'sheet1']\n",
      "삭제 후 : ['두번째', '세번째', '뒤에서 두번째']\n"
     ]
    }
   ],
   "source": [
    "#원본 시트 리스트 출력\n",
    "print(\"원본 : \", wb.sheetnames)\n",
    "\n",
    "#시트 삭제 : 삭제시 괄호 안의 내용은 Worksheet 객체이다.\n",
    "ws = wb[\"sheet1\"]\n",
    "wb.remove(ws)\n",
    "\n",
    "#삭제 후 시트 리스트 출력\n",
    "print(\"삭제 후 :\", wb.sheetnames)\n",
    "\n",
    "wb.save(r\"조건부서식 test.xlsx\")"
   ]
  },
  {
   "cell_type": "markdown",
   "id": "ff4393ec",
   "metadata": {},
   "source": [
    "##### 8-3) 시트 이름 변경하기"
   ]
  },
  {
   "cell_type": "code",
   "execution_count": 21,
   "id": "cc2ca212",
   "metadata": {},
   "outputs": [
    {
     "name": "stdout",
     "output_type": "stream",
     "text": [
      "['Second', '세번째', '뒤에서 두번째']\n",
      "['Second', 'Third', '뒤에서 두번째']\n"
     ]
    }
   ],
   "source": [
    "# 두번째라는 이름을 가진 시트를 'Second'로 변경\n",
    "ws2 = wb[\"두번째\"]\n",
    "ws2.title = \"Second\"\n",
    "print(wb.sheetnames)\n",
    "\n",
    "# 세번째라는 이름을 가진 시트를 'Third'로 변경\n",
    "ws3 = wb[\"세번째\"]\n",
    "ws3.title = \"Third\"\n",
    "print(wb.sheetnames)"
   ]
  },
  {
   "cell_type": "markdown",
   "id": "14b530e5",
   "metadata": {},
   "source": [
    "##### 8-4) 시트 이동/복사(같은 파일)\n",
    "##### .move_sheet, copy_worksheet 함수 사용\n",
    "##### 다른 파일로 시트를 이동, 복사 기능은 Openpyxl로 구현 못해서 win32com.client 모듈을 사용해야 함"
   ]
  },
  {
   "cell_type": "code",
   "execution_count": 25,
   "id": "7f312085",
   "metadata": {},
   "outputs": [
    {
     "name": "stdout",
     "output_type": "stream",
     "text": [
      "원본 :  ['First', 'Second', 'Third', 'Fourth', 'Fifth', 'sixth']\n",
      "이동 후 :  ['First', 'Third', 'Fourth', 'Fifth', 'Second', 'sixth']\n"
     ]
    }
   ],
   "source": [
    "#시트 이동\n",
    "wb = op.load_workbook(r\"조건부서식 test.xlsx\")\n",
    "ws = wb.active\n",
    "\n",
    "#원본 출력\n",
    "print(\"원본 : \", wb.sheetnames)\n",
    "\n",
    "#Worksheet 객체 설정(시트명 : Second)\n",
    "ws = wb['Second']\n",
    "\n",
    "#'Second'를 뒤로 3칸 이동\n",
    "wb.move_sheet(ws, 3)\n",
    "\n",
    "#위치 이동 후 출력\n",
    "print(\"이동 후 : \", wb.sheetnames)\n",
    "\n",
    "wb.save(r\"조건부서식 test.xlsx\")"
   ]
  },
  {
   "cell_type": "code",
   "execution_count": 26,
   "id": "2e97ce4a",
   "metadata": {},
   "outputs": [
    {
     "name": "stdout",
     "output_type": "stream",
     "text": [
      "복사한 시트명 :  <Worksheet \"Second Copy\">\n",
      "시트리스트 :  ['First', 'Third', 'Fourth', 'Fifth', 'Second', 'sixth', 'Second Copy']\n"
     ]
    }
   ],
   "source": [
    "#시트 복사\n",
    "wb = op.load_workbook(r\"조건부서식 test.xlsx\")\n",
    "ws = wb.active\n",
    "\n",
    "sht = wb[\"Second\"]\n",
    "#'Second' 시트를 복사하고 복사한 시트를 ws_copy 객체로 설정\n",
    "ws_copy = wb.copy_worksheet(sht)\n",
    "\n",
    "#출력\n",
    "print(\"복사한 시트명 : \", ws_copy)\n",
    "print(\"시트리스트 : \", wb.sheetnames)"
   ]
  },
  {
   "cell_type": "code",
   "execution_count": 27,
   "id": "8dd5381d",
   "metadata": {},
   "outputs": [],
   "source": [
    "#시트 탭 속성 설정\n",
    "\n",
    "#시트 탭 색깔 변경(하늘색)\n",
    "ws_copy.sheet_properties.tabColor = '00FFFF'\n",
    "\n",
    "#다시 저장해서 확인\n",
    "wb.save(r\"조건부서식 test.xlsx\")"
   ]
  },
  {
   "cell_type": "code",
   "execution_count": null,
   "id": "5296abb3",
   "metadata": {},
   "outputs": [],
   "source": []
  }
 ],
 "metadata": {
  "kernelspec": {
   "display_name": "Python 3",
   "language": "python",
   "name": "python3"
  },
  "language_info": {
   "codemirror_mode": {
    "name": "ipython",
    "version": 3
   },
   "file_extension": ".py",
   "mimetype": "text/x-python",
   "name": "python",
   "nbconvert_exporter": "python",
   "pygments_lexer": "ipython3",
   "version": "3.13.4"
  }
 },
 "nbformat": 4,
 "nbformat_minor": 5
}
