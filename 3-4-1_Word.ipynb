{
 "cells": [
  {
   "cell_type": "markdown",
   "id": "7619f57d",
   "metadata": {},
   "source": [
    "##### 3-4-1) 문서 생성, 저장, 불러오기, 글자 입력"
   ]
  },
  {
   "cell_type": "code",
   "execution_count": 26,
   "id": "c34f44b9",
   "metadata": {},
   "outputs": [],
   "source": [
    "from docx import Document # 가장 기본적인 기능(문서 열기, 저장, 글자 쓰기 등)\n",
    "from docx.enum.text import WD_ALIGN_PARAGRAPH # 문단 정렬\n",
    "from docx.enum.style import WD_STYLE_TYPE # 문자 스타일 변경\n",
    "import os"
   ]
  },
  {
   "cell_type": "code",
   "execution_count": 27,
   "id": "765138ff",
   "metadata": {},
   "outputs": [],
   "source": [
    "# 현재는 그냥 새 워드문서가 파이썬 상에서만 존재하는 상태\n",
    "# 실제 워드 파일로 만들고 싶으면 아래 코드로 객체 저장\n",
    "\n",
    "# 새 문서\n",
    "doc = Document()\n",
    "\n",
    "# 제목\n",
    "doc.add_heading('가장 큰 제목 (아래에 밑줄)', level=0)\n",
    "doc.add_heading('제목 크기, H1', level=1)\n",
    "doc.add_heading('제목 크기, H2', level=2)\n",
    "doc.add_heading('제목 크기, H3', level=3)\n",
    "doc.add_heading('제목 크기, H4', level=4)\n",
    "doc.add_heading('제목 크기, H5', level=5)\n",
    "doc.add_heading('제목 크기, H6', level=6)\n",
    "\n",
    "# 저장 경로\n",
    "path = r\"C:\\Users\\ASUS\\Desktop\\Python\"\n",
    "doc.save(os.path.join(path, \"저장하고 싶은 파일명.docx\"))"
   ]
  },
  {
   "cell_type": "code",
   "execution_count": 29,
   "id": "4fea3427",
   "metadata": {},
   "outputs": [
    {
     "data": {
      "text/plain": [
       "<docx.text.paragraph.Paragraph at 0x2b04412fa10>"
      ]
     },
     "execution_count": 29,
     "metadata": {},
     "output_type": "execute_result"
    }
   ],
   "source": [
    "# paragraph : 엔터를 치지 않은 상태의 글\n",
    "doc.add_paragraph('여기에 원하는 텍스트를 마음껏 입력하면 됩니다.')"
   ]
  },
  {
   "cell_type": "code",
   "execution_count": 30,
   "id": "6c6b3ddc",
   "metadata": {},
   "outputs": [],
   "source": [
    "p = doc.add_paragraph('두번째 문단')\n",
    "\n",
    "# 굵은 글씨(Bold)\n",
    "p.add_run('문단에 굵은 글자 추가').bold = True\n",
    "\n",
    "# 기울임(Italic)\n",
    "p.add_run('문단에 이텔릭 글자 추가').italic = True\n",
    "\n",
    "# 밑줄(underline)\n",
    "p.add_run('문단에 밑줄 글자 추가').underline = True"
   ]
  },
  {
   "cell_type": "code",
   "execution_count": 31,
   "id": "7ea3a846",
   "metadata": {},
   "outputs": [],
   "source": [
    "doc.save(os.path.join(path, \"저장하고 싶은 파일명.docx\"))"
   ]
  },
  {
   "cell_type": "markdown",
   "id": "18da2bb0",
   "metadata": {},
   "source": [
    "##### 워드에 제목 넣기"
   ]
  },
  {
   "cell_type": "code",
   "execution_count": null,
   "id": "4fdb55ed",
   "metadata": {},
   "outputs": [
    {
     "data": {
      "text/plain": [
       "<docx.text.paragraph.Paragraph at 0x2b04412fb30>"
      ]
     },
     "execution_count": 25,
     "metadata": {},
     "output_type": "execute_result"
    }
   ],
   "source": []
  },
  {
   "cell_type": "code",
   "execution_count": null,
   "id": "fc670112",
   "metadata": {},
   "outputs": [],
   "source": []
  }
 ],
 "metadata": {
  "kernelspec": {
   "display_name": "Python 3",
   "language": "python",
   "name": "python3"
  },
  "language_info": {
   "codemirror_mode": {
    "name": "ipython",
    "version": 3
   },
   "file_extension": ".py",
   "mimetype": "text/x-python",
   "name": "python",
   "nbconvert_exporter": "python",
   "pygments_lexer": "ipython3",
   "version": "3.13.4"
  }
 },
 "nbformat": 4,
 "nbformat_minor": 5
}
