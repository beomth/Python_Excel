{
 "cells": [
  {
   "cell_type": "markdown",
   "id": "349c1ee8",
   "metadata": {},
   "source": [
    "##### 3-3-4) win32com 통해 엑셀 다루기 - Sheet 제어\n",
    "###### 1. 시트 생성 및 설정\n",
    "###### 2. 시트 복사/이동하기\n",
    "###### 3. 시트 삭제하기\n",
    "###### 4. 시트 이름 변경하기\n",
    "###### 5. 시트 탭 속성 설정하기\n"
   ]
  },
  {
   "cell_type": "markdown",
   "id": "3363f109",
   "metadata": {},
   "source": []
  },
  {
   "cell_type": "markdown",
   "id": "cfd123ff",
   "metadata": {},
   "source": [
    "##### 1.시트 생성 및 설정"
   ]
  },
  {
   "cell_type": "code",
   "execution_count": 17,
   "id": "a0ebd4b8",
   "metadata": {},
   "outputs": [],
   "source": [
    "#win32com.client 모듈 임포트\n",
    "import win32com.client\n",
    "import pythoncom\n",
    "\n",
    "pythoncom.CoInitialize() #COM 초기화\n",
    "#Excel 프로그램 객체 생성\n",
    "excel = win32com.client.Dispatch(\"Excel.Application\")\n",
    "\n",
    "#엑셀 실행과정이 보이게 설정\n",
    "excel.Visible = True\n",
    "\n"
   ]
  },
  {
   "cell_type": "code",
   "execution_count": 18,
   "id": "a10aac50",
   "metadata": {},
   "outputs": [],
   "source": [
    "wb1 = excel.Workbooks.Open(r\"C:/Users/ASUS/Desktop/Python/data1.xlsx\")\n",
    "\n",
    "#data1.xlsx 파일에 새로운 Worksheet 생성 및 ws1으로 객체 설정\n",
    "ws1 = wb1.Worksheets.Add()"
   ]
  },
  {
   "cell_type": "code",
   "execution_count": 19,
   "id": "705035eb",
   "metadata": {},
   "outputs": [],
   "source": [
    "#data1.xlsx 파일에 새로운 Worksheet 생성 및 ws2으로 객체 설정\n",
    "ws2 = wb1.Worksheets.Add()"
   ]
  },
  {
   "cell_type": "code",
   "execution_count": 20,
   "id": "ad34b5fd",
   "metadata": {},
   "outputs": [],
   "source": [
    "#현재 활성화되어 있는 시트를 객체로 설정\n",
    "ws3 = wb1.ActiveSheet\n",
    "\n",
    "#특정 시트명으로 접근(Sheet1으로 접근)\n",
    "ws4 = wb1.Worksheets(\"Sheet1\")"
   ]
  },
  {
   "cell_type": "markdown",
   "id": "19beecf8",
   "metadata": {},
   "source": [
    "##### 2. 시트 복사 및 이동\n",
    "##### \"data1.xlsx\" 파일의 \"test\" 시트를 \"data2.xlsx\" 파일에 복사하는 코드"
   ]
  },
  {
   "cell_type": "code",
   "execution_count": 21,
   "id": "3c168656",
   "metadata": {},
   "outputs": [],
   "source": [
    "#data1.xlsx 파일을 wb1로 설정\n",
    "wb1 = excel.Workbooks.Open(r\"C:/Users/ASUS/Desktop/Python/data1.xlsx\")\n",
    "\n",
    "#data2.xlsx 파일을 wb2로 설정\n",
    "wb2 = excel.Workbooks.Open(r\"C:/Users/ASUS/Desktop/Python/data2.xlsx\")"
   ]
  },
  {
   "cell_type": "code",
   "execution_count": 26,
   "id": "59cd71c3",
   "metadata": {},
   "outputs": [],
   "source": [
    "#wb1의 \"test\" 시트를 wb2의 \"Sheet1\" 앞으로 복사한다.\n",
    "wb1.Worksheets(\"test1\").Copy(Before=wb2.Worksheets(\"Sheet1\"))\n",
    "\n",
    "#wb1의 \"test1\" 시트를 wb2의 \"Sheet1\" 뒤로 복사하낟\n",
    "wb1.Worksheets(\"test1\").Copy(After=wb2.Worksheets(\"Sheet1\"))\n",
    "\n",
    "wb2.Save()\n",
    "wb1.Save()"
   ]
  },
  {
   "cell_type": "markdown",
   "id": "cb560ffb",
   "metadata": {},
   "source": [
    "##### 3.시트삭제"
   ]
  },
  {
   "cell_type": "code",
   "execution_count": null,
   "id": "142af650",
   "metadata": {},
   "outputs": [],
   "source": [
    "wb = excel.Workbooks.Add() #엑셀 Workbook 파일 1개 새로 생성\n",
    "\n",
    "ws = wb.Worksheets.Add() # 액셀 시트를 새로 생성"
   ]
  },
  {
   "cell_type": "code",
   "execution_count": null,
   "id": "c5c9de91",
   "metadata": {},
   "outputs": [],
   "source": [
    "#\"Sheet1\"을 ws로 설정\n",
    "ws = wb.Worksheets(\"Sheet1\")\n",
    "ws.Delete()\n",
    "#풀어쓴다면\n",
    "wb.Worksheets(\"Sheet1\").Delete()"
   ]
  },
  {
   "cell_type": "markdown",
   "id": "c089a90d",
   "metadata": {},
   "source": [
    "##### 4. 시트 속성 설정(시트명, 시트탭 색)\n",
    "###### Microsoft에서 제공하는 엑셀 ColorIndex는 1~56"
   ]
  },
  {
   "cell_type": "code",
   "execution_count": 31,
   "id": "829f484e",
   "metadata": {},
   "outputs": [],
   "source": [
    "#\"Sheet2\"를 ws로 설정\n",
    "ws = wb.Worksheets(\"시트 이름 바꾸기\")\n",
    "#ws 시트명 바꾸기\n",
    "ws.Name = \"시트 이름 바꾸기2\"\n",
    "ws.Tab.ColorIndex = 30\n"
   ]
  },
  {
   "cell_type": "code",
   "execution_count": null,
   "id": "48cda751",
   "metadata": {},
   "outputs": [],
   "source": [
    "w"
   ]
  }
 ],
 "metadata": {
  "kernelspec": {
   "display_name": "Python 3",
   "language": "python",
   "name": "python3"
  },
  "language_info": {
   "codemirror_mode": {
    "name": "ipython",
    "version": 3
   },
   "file_extension": ".py",
   "mimetype": "text/x-python",
   "name": "python",
   "nbconvert_exporter": "python",
   "pygments_lexer": "ipython3",
   "version": "3.13.4"
  }
 },
 "nbformat": 4,
 "nbformat_minor": 5
}
