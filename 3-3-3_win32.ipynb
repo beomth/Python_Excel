{
 "cells": [
  {
   "cell_type": "markdown",
   "id": "aa323a6b",
   "metadata": {},
   "source": [
    "##### 3-3-3) Win32com 통해 엑셀 다루기 - Cell 영역을 선택하는 방법\n",
    "\n",
    "##### 1.Range\n",
    "##### 2.UsedRange\n",
    "##### 3.CurrentRegion\n",
    "##### 4.SpecialCells"
   ]
  },
  {
   "cell_type": "code",
   "execution_count": 6,
   "id": "72dc0b0f",
   "metadata": {},
   "outputs": [],
   "source": [
    "import pythoncom\n",
    "\n",
    "pythoncom.CoInitialize()"
   ]
  },
  {
   "cell_type": "code",
   "execution_count": 10,
   "id": "1084d9c1",
   "metadata": {},
   "outputs": [],
   "source": [
    "import win32com.client\n",
    "\n",
    "excel = win32com.client.Dispatch(\"Excel.Application\") # 액셀 프로그램 실행\n",
    "\n",
    "excel.Visible = True #앞으로 실행과정을 보이게\n",
    "\n",
    "path = r\"C:/Users/ASUS/Desktop/Python/\"\n",
    "wb = excel.Workbooks.Open(path + \"win32com.xlsx\") #기존에 생성된 문서를 Workbook 객체로 생성\n",
    "\n",
    "ws = wb.ActiveSheet # 활성화 된 시트 \"Sheet1\"을 객체로 생성"
   ]
  },
  {
   "cell_type": "markdown",
   "id": "c00ed2ec",
   "metadata": {},
   "source": [
    "##### 1.Range\n",
    "###### Range뒤에 .Select()를 붙여서 사용"
   ]
  },
  {
   "cell_type": "code",
   "execution_count": 14,
   "id": "eba401f9",
   "metadata": {},
   "outputs": [
    {
     "data": {
      "text/plain": [
       "True"
      ]
     },
     "execution_count": 14,
     "metadata": {},
     "output_type": "execute_result"
    }
   ],
   "source": [
    "ws.Range(\"A1\").Select() # \"A1\" 영역을 선택\n",
    "ws.Range(\"A1, B2\").Select() # \"A1\", \"B2\" 영역을 각각 선택\n",
    "ws.Range(\"A2:B3\").Select() # \"A2:B3\"의 연속된 영역 선택"
   ]
  },
  {
   "cell_type": "markdown",
   "id": "80b3cd3f",
   "metadata": {},
   "source": [
    "##### 2.UsedRange"
   ]
  },
  {
   "cell_type": "code",
   "execution_count": 17,
   "id": "2a8fb641",
   "metadata": {},
   "outputs": [
    {
     "data": {
      "text/plain": [
       "(('win32com excel test1', 'win32com excel test1', None),\n",
       " ('win32com excel test2', 'win32com excel test2', None),\n",
       " ('win32com excel test3', 'win32com excel test3', 'win32com excel test3'),\n",
       " ('win32com excel test4', 'win32com excel test4', None),\n",
       " ('win32com excel test5', 'win32com excel test5', None),\n",
       " ('win32com excel test6', 'win32com excel test6', None),\n",
       " ('win32com excel test7', 'win32com excel test7', None),\n",
       " ('win32com excel test8', 'win32com excel test8', None),\n",
       " ('win32com excel test9', 'win32com excel test9', None),\n",
       " ('win32com excel test10', 'win32com excel test10', None))"
      ]
     },
     "execution_count": 17,
     "metadata": {},
     "output_type": "execute_result"
    }
   ],
   "source": [
    "ws.UsedRange()"
   ]
  },
  {
   "cell_type": "code",
   "execution_count": 19,
   "id": "0837c3e5",
   "metadata": {},
   "outputs": [
    {
     "name": "stdout",
     "output_type": "stream",
     "text": [
      "B1 값 :  2.0\n",
      "\n"
     ]
    }
   ],
   "source": [
    "print(\"B1 값 : \", ws.UsedRange()[0][1]) #1행 2열\n",
    "print()"
   ]
  },
  {
   "cell_type": "code",
   "execution_count": 20,
   "id": "97be0bf0",
   "metadata": {},
   "outputs": [
    {
     "data": {
      "text/plain": [
       "True"
      ]
     },
     "execution_count": 20,
     "metadata": {},
     "output_type": "execute_result"
    }
   ],
   "source": [
    "#사용 영역 선택처리하기\n",
    "ws.UsedRange.Select()"
   ]
  },
  {
   "cell_type": "markdown",
   "id": "b87603c7",
   "metadata": {},
   "source": [
    "##### 3.CurrentRegion\n",
    "##### UsedRange는 앞에 대상이 되는 객체가 WorkSheet(=ws)였습니다. CurrentRegion의 대상이 되는 객체는 Range입니다. CurrentRegion은 사용 영역의 첫 번째 영역을 기준으로 연속 된 영역 만을 선택합니다."
   ]
  },
  {
   "cell_type": "code",
   "execution_count": 21,
   "id": "ee264c96",
   "metadata": {},
   "outputs": [
    {
     "data": {
      "text/plain": [
       "True"
      ]
     },
     "execution_count": 21,
     "metadata": {},
     "output_type": "execute_result"
    }
   ],
   "source": [
    "#A:C 열의 사용 영역 선택하기\n",
    "ws.Range(\"A:C\").CurrentRegion.Select()"
   ]
  },
  {
   "cell_type": "code",
   "execution_count": 22,
   "id": "6b3ce06c",
   "metadata": {},
   "outputs": [
    {
     "data": {
      "text/plain": [
       "True"
      ]
     },
     "execution_count": 22,
     "metadata": {},
     "output_type": "execute_result"
    }
   ],
   "source": [
    "#시트 사용 영역 선택하기\n",
    "ws.UsedRange.CurrentRegion.Select()"
   ]
  },
  {
   "cell_type": "markdown",
   "id": "37cc4819",
   "metadata": {},
   "source": [
    "##### 4.SpecialCells\n",
    "##### SpecialCells는 특정 조건을 만족하는 셀을 선택 할 수 있습니다. 예를 들면, 데이터만 있는 셀만 선택하기, 빈 공간 선택하기가 있습니다."
   ]
  },
  {
   "cell_type": "code",
   "execution_count": null,
   "id": "70cdfc70",
   "metadata": {},
   "outputs": [
    {
     "data": {
      "text/plain": [
       "True"
      ]
     },
     "execution_count": 23,
     "metadata": {},
     "output_type": "execute_result"
    }
   ],
   "source": [
    "#연속된 사용역역 선택\n",
    "ws.UsedRange.SpecialCells(12).Select() #12s는 옵션. 데이터가 있는 연속된 영역을 모두 선택"
   ]
  },
  {
   "cell_type": "code",
   "execution_count": 26,
   "id": "40fa7d71",
   "metadata": {},
   "outputs": [
    {
     "data": {
      "text/plain": [
       "True"
      ]
     },
     "execution_count": 26,
     "metadata": {},
     "output_type": "execute_result"
    }
   ],
   "source": [
    "#연속된 사용영역에서 빈 셀만 선택하기\n",
    "ws.UsedRange.SpecialCells(4).Select()"
   ]
  },
  {
   "cell_type": "code",
   "execution_count": 28,
   "id": "7cc91ec3",
   "metadata": {},
   "outputs": [
    {
     "data": {
      "text/plain": [
       "True"
      ]
     },
     "execution_count": 28,
     "metadata": {},
     "output_type": "execute_result"
    }
   ],
   "source": [
    "#연속된 사용영역에서 마지막 셀 선택\n",
    "ws.UsedRange.SpecialCells(11).Select()"
   ]
  },
  {
   "cell_type": "code",
   "execution_count": null,
   "id": "8d5f4a8e",
   "metadata": {},
   "outputs": [],
   "source": []
  }
 ],
 "metadata": {
  "kernelspec": {
   "display_name": "Python 3",
   "language": "python",
   "name": "python3"
  },
  "language_info": {
   "codemirror_mode": {
    "name": "ipython",
    "version": 3
   },
   "file_extension": ".py",
   "mimetype": "text/x-python",
   "name": "python",
   "nbconvert_exporter": "python",
   "pygments_lexer": "ipython3",
   "version": "3.13.4"
  }
 },
 "nbformat": 4,
 "nbformat_minor": 5
}
