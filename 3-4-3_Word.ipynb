{
 "cells": [
  {
   "cell_type": "markdown",
   "id": "a15f63a9",
   "metadata": {},
   "source": [
    "##### 3-4-3) 기존문서 내용 읽기 - Word"
   ]
  },
  {
   "cell_type": "code",
   "execution_count": 8,
   "id": "e48d3c32",
   "metadata": {},
   "outputs": [],
   "source": [
    "from docx import Document\n",
    "\n",
    "document = Document()\n",
    "\n",
    "document.add_heading('코딩유치원 python-docx 강의', level=0)\n",
    "\n",
    "p = document.add_paragraph('안녕하세요 코린이 여러분!')\n",
    "p.add_run('코딩유치원에 오신 걸 환영합니다!').bold = True\n",
    "\n",
    "document.add_paragraph('문장 추가 1')\n",
    "document.add_paragraph('문장 추가 2')\n",
    "document.add_paragraph('문장 추가 3')\n",
    "document.add_paragraph('문장 추가 4')\n",
    "\n",
    "records = (\n",
    "    (1, '하나', 'one'),\n",
    "    (2, '둘', 'two'),\n",
    "    (3, '셋', 'three'),\n",
    ")\n",
    "\n",
    "table = document.add_table(rows=1, cols=3)\n",
    "\n",
    "#만든 표의 스타일을 가장 기본 스타일인 Table Grid로 설정\n",
    "table.style = document.styles['Table Grid']\n",
    "\n",
    "hdr_cells = table.rows[0].cells\n",
    "hdr_cells[0].text = 'No'\n",
    "hdr_cells[1].text = '한국어'\n",
    "hdr_cells[2].text = '영어'\n",
    "for qty, id, desc in records:\n",
    "    row_cells = table.add_row().cells\n",
    "    row_cells[0].text = str(qty)\n",
    "    row_cells[1].text = id\n",
    "    row_cells[2].text = desc\n",
    "\n",
    "path = r\"C:\\Users\\ASUS\\Desktop\\Python\"\n",
    "document.save(path + '\\예제 문서.docx')\n"
   ]
  },
  {
   "cell_type": "code",
   "execution_count": 9,
   "id": "55e487ea",
   "metadata": {},
   "outputs": [
    {
     "name": "stdout",
     "output_type": "stream",
     "text": [
      "1: 코딩유치원 python-docx 강의\n",
      "2: 안녕하세요 코린이 여러분!코딩유치원에 오신 걸 환영합니다!\n",
      "3: 문장 추가 1\n",
      "4: 문장 추가 2\n",
      "5: 문장 추가 3\n",
      "6: 문장 추가 4\n"
     ]
    }
   ],
   "source": [
    "doc = Document('예제 문서.docx')\n",
    "\n",
    "for i, paragraph in enumerate(doc.paragraphs):\n",
    "    print(str(i+1) + \": \" + paragraph.text)"
   ]
  },
  {
   "cell_type": "code",
   "execution_count": 10,
   "id": "e6d97a62",
   "metadata": {},
   "outputs": [
    {
     "data": {
      "text/plain": [
       "<docx.text.run.Run at 0x2447fe272a0>"
      ]
     },
     "execution_count": 10,
     "metadata": {},
     "output_type": "execute_result"
    }
   ],
   "source": [
    "# 추가하고 싶은 문단(실제 인덱스는 0부터 시작이라서 원하는 문단번호보다 +1 해야함)\n",
    "\n",
    "p = doc.paragraphs[4]\n",
    "\n",
    "p.add_run('문단에 글자 추가')"
   ]
  },
  {
   "cell_type": "code",
   "execution_count": 11,
   "id": "91c3e7a9",
   "metadata": {},
   "outputs": [
    {
     "data": {
      "text/plain": [
       "'No'"
      ]
     },
     "execution_count": 11,
     "metadata": {},
     "output_type": "execute_result"
    }
   ],
   "source": [
    "# 문서 안의 모든 표를 가져옴\n",
    "tables = doc.tables\n",
    "\n",
    "# 가장 처음 표의 첫행, 첫열의 첫문단 내용 가져오기\n",
    "tables[0].rows[0].cells[0].paragraphs[0].text"
   ]
  },
  {
   "cell_type": "code",
   "execution_count": 12,
   "id": "66694b67",
   "metadata": {},
   "outputs": [
    {
     "name": "stdout",
     "output_type": "stream",
     "text": [
      "No\n",
      "한국어\n",
      "영어\n",
      "1\n",
      "하나\n",
      "one\n",
      "2\n",
      "둘\n",
      "two\n",
      "3\n",
      "셋\n",
      "three\n"
     ]
    }
   ],
   "source": [
    "# 표의 모든 값 가져오기\n",
    "table = doc.tables[0]\n",
    "\n",
    "for row in table.rows:\n",
    "    for cell in row.cells:\n",
    "        for para in cell.paragraphs:\n",
    "            print(para.text)"
   ]
  },
  {
   "cell_type": "code",
   "execution_count": 13,
   "id": "f63fb1a2",
   "metadata": {},
   "outputs": [],
   "source": [
    "# 표의 모든 값 가져오기\n",
    "table = doc.tables[0]\n",
    "\n",
    "for row in table.rows:\n",
    "    for cell in row.cells:\n",
    "        for para in cell.paragraphs:\n",
    "            if(para.text == \"하나\"):\n",
    "                para.add_run(' <-- 찾았다 하나!!')\n",
    "\n",
    "\n",
    "# 확인을 위해 저장\n",
    "doc.save('예제 문서.docx')"
   ]
  },
  {
   "cell_type": "code",
   "execution_count": null,
   "id": "2cee1e81",
   "metadata": {},
   "outputs": [],
   "source": []
  }
 ],
 "metadata": {
  "kernelspec": {
   "display_name": "Python 3",
   "language": "python",
   "name": "python3"
  },
  "language_info": {
   "codemirror_mode": {
    "name": "ipython",
    "version": 3
   },
   "file_extension": ".py",
   "mimetype": "text/x-python",
   "name": "python",
   "nbconvert_exporter": "python",
   "pygments_lexer": "ipython3",
   "version": "3.13.4"
  }
 },
 "nbformat": 4,
 "nbformat_minor": 5
}
