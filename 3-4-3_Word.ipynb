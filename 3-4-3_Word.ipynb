{
 "cells": [
  {
   "cell_type": "markdown",
   "id": "a15f63a9",
   "metadata": {},
   "source": [
    "##### 3-4-3) 기존문서 내용 읽기 - Word"
   ]
  },
  {
   "cell_type": "code",
   "execution_count": 4,
   "id": "e48d3c32",
   "metadata": {},
   "outputs": [],
   "source": [
    "from docx import Document\n",
    "\n",
    "document = Document()\n",
    "\n",
    "document.add_heading('코딩유치원 python-docx 강의', level=0)\n",
    "\n",
    "p = document.add_paragraph('안녕하세요 코린이 여러분!')\n",
    "p.add_run('코딩유치원에 오신 걸 환영합니다!').bold = True\n",
    "\n",
    "document.add_paragraph('문장 추가 1')\n",
    "document.add_paragraph('문장 추가 2')\n",
    "document.add_paragraph('문장 추가 3')\n",
    "document.add_paragraph('문장 추가 4')\n",
    "\n",
    "records = (\n",
    "    (1, '하나', 'one'),\n",
    "    (2, '둘', 'two'),\n",
    "    (3, '셋', 'three'),\n",
    ")\n",
    "\n",
    "table = document.add_table(rows=1, cols=3)\n",
    "\n",
    "#만든 표의 스타일을 가장 기본 스타일인 Table Grid로 설정\n",
    "table.style = document.styles['Table Grid']\n",
    "\n",
    "hdr_cells = table.rows[0].cells\n",
    "hdr_cells[0].text = 'No'\n",
    "hdr_cells[1].text = '한국어'\n",
    "hdr_cells[2].text = '영어'\n",
    "for qty, id, desc in records:\n",
    "    row_cells = table.add_row().cells\n",
    "    row_cells[0].text = str(qty)\n",
    "    row_cells[1].text = id\n",
    "    row_cells[2].text = desc\n",
    "\n",
    "document.save('예제 문서.docx')\n"
   ]
  },
  {
   "cell_type": "code",
   "execution_count": null,
   "id": "55e487ea",
   "metadata": {},
   "outputs": [],
   "source": []
  }
 ],
 "metadata": {
  "kernelspec": {
   "display_name": "Python 3",
   "language": "python",
   "name": "python3"
  },
  "language_info": {
   "codemirror_mode": {
    "name": "ipython",
    "version": 3
   },
   "file_extension": ".py",
   "mimetype": "text/x-python",
   "name": "python",
   "nbconvert_exporter": "python",
   "pygments_lexer": "ipython3",
   "version": "3.13.4"
  }
 },
 "nbformat": 4,
 "nbformat_minor": 5
}
