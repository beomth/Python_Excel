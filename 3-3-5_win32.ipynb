{
 "cells": [
  {
   "cell_type": "markdown",
   "id": "3a222429",
   "metadata": {},
   "source": [
    "##### 3-3-5) win32com 통해 엑셀 다루기 - 엑셀 서식 지정"
   ]
  },
  {
   "cell_type": "markdown",
   "id": "832d9a06",
   "metadata": {},
   "source": [
    "###### 1. Font Style\n",
    "###### 2. Font Color(글 색상)\n",
    "###### 3. Cell 서식 : 색상, 테두리, 정렬\n",
    "###### 4. Font, Cell 서식 지우기"
   ]
  },
  {
   "cell_type": "code",
   "execution_count": 1,
   "id": "e3aedeab",
   "metadata": {},
   "outputs": [],
   "source": [
    "import win32com.client\n",
    "import pythoncom\n",
    "\n",
    "pythoncom.CoInitialize()\n",
    "excel = win32com.client.Dispatch(\"Excel.Application\") # 액셀 프로그램 실행\n",
    "excel.Visible = True # 앞으로 실행과정을 보이게\n",
    "\n",
    "wb = excel.Workbooks.Add() #액셀 Workbook 파일 1개 새로 생성\n",
    "ws = wb.Worksheets.Add() #엑셀 시트를 새로 생성"
   ]
  },
  {
   "cell_type": "markdown",
   "id": "2d15b052",
   "metadata": {},
   "source": [
    "##### 1.Font Style\n",
    "###### 글꼴, 글씨 크기 등 글씨의 형태"
   ]
  },
  {
   "cell_type": "code",
   "execution_count": 2,
   "id": "c0fdf9fa",
   "metadata": {},
   "outputs": [],
   "source": [
    "#다중범위 써보기1\n",
    "ws.Range(ws.cells(1,1), ws.cells(1,3)).value = \"win32com excel 서식(font style)\"\n",
    "\n",
    "#다중범위 써보기2\n",
    "ws.Range(\"A2:B2\").value = \"win32com excel 서식(font 색상)\"\n",
    "\n",
    "#다중범위 써보기3\n",
    "ws.Range(\"A3\").value = \"win32com excel 서식(Cell 색상)\""
   ]
  },
  {
   "cell_type": "code",
   "execution_count": 3,
   "id": "876e0b11",
   "metadata": {},
   "outputs": [],
   "source": [
    "#셀 서식1. font size 및 font 굵게, 글씨체\n",
    "\n",
    "#\"A1\" 글씨체 변경\n",
    "ws.cells(1,1).Font.name = \"굴림\"\n",
    "\n",
    "ws.cells(1,2).Font.Size = 14\n",
    "\n",
    "ws.cells(1,3).Font.Bold = True #굵게\n",
    "ws.cells(1,3).Font.italic = True #기울임\n",
    "ws.cells(1,3).Font.Underline = True #밑줄\n"
   ]
  },
  {
   "cell_type": "markdown",
   "id": "a78cd533",
   "metadata": {},
   "source": [
    "##### 2.Font Color (색상지정)"
   ]
  },
  {
   "cell_type": "code",
   "execution_count": 4,
   "id": "5a296e8e",
   "metadata": {},
   "outputs": [],
   "source": [
    "ws.Range(\"A2\").font.ColorIndex = 40\n",
    "ws.Range(\"B2\").font.ColorIndex = 50"
   ]
  },
  {
   "cell_type": "markdown",
   "id": "3cc37ff9",
   "metadata": {},
   "source": [
    "##### 3.Cell 서식 : 색상, 테두리, 정렬"
   ]
  },
  {
   "cell_type": "code",
   "execution_count": 5,
   "id": "323fe6d9",
   "metadata": {},
   "outputs": [],
   "source": [
    "#셀 배경색 지정\n",
    "ws.Range(\"A3\").Interior.ColorIndex = 30"
   ]
  },
  {
   "cell_type": "code",
   "execution_count": 6,
   "id": "e72c6b85",
   "metadata": {},
   "outputs": [
    {
     "data": {
      "text/plain": [
       "True"
      ]
     },
     "execution_count": 6,
     "metadata": {},
     "output_type": "execute_result"
    }
   ],
   "source": [
    "#Cell 테두리 지정\n",
    "#Weight : 선 굵기, LineStyle의 경우 1:실선, 2:짧은 점선, #:긴 점선\n",
    "ws.Range(\"A1:C3\").BorderAround(ColorIndex = 1, Weight = 2, LineStyle = 1)"
   ]
  },
  {
   "cell_type": "code",
   "execution_count": 7,
   "id": "0dd2289b",
   "metadata": {},
   "outputs": [],
   "source": [
    "#셀 안쪽까지 모두 테두리 지정\n",
    "rng = ws.Range(\"A1:C3\") #범위 설정\n",
    "rng.Borders.LineStyle = 1 #선 스타일\n",
    "rng.Borders.ColorIndex = 14 #선 색상\n",
    "rng.Borders.weight = 2 #선 굵기"
   ]
  },
  {
   "cell_type": "code",
   "execution_count": 12,
   "id": "63b867e2",
   "metadata": {},
   "outputs": [],
   "source": [
    "#Cell 정렬\n",
    "#행, 열 크기 조정\n",
    "rng = ws.UsedRange #사용영역 선택\n",
    "rng.rowHeight = 70 #선택 영역 행 크기 설정\n",
    "rng.ColumnWidth = 30 #선택 영역 열 크기 설정\n",
    "\n",
    "#테두리 설정\n",
    "rng.Borders.LineStyle = 1 #선 스타일\n",
    "rng.Borders.ColorIndex = 1 #선 색상 : Black\n",
    "rng.Borders.Weight = 2 #선 굵기"
   ]
  },
  {
   "cell_type": "code",
   "execution_count": null,
   "id": "7e6696db",
   "metadata": {},
   "outputs": [],
   "source": [
    "#VerticalAlignment : 수직 정렬\n",
    "#HorizontalAlignment : 수평 정렬\n",
    "\n",
    "ws.Range(\"B1\").VerticalAlignment = -4160 #위로 정렬\n",
    "ws.Range(\"B1\").HorizontalAlignment = -4108 #가운데 정렬 (수평)\n",
    "\n",
    "ws.Range(\"B3\").VerticalAlignment = -4107 #아래로 정렬\n",
    "ws.Range(\"B3\").HorizontalAlignment = -4108 #가운데 정렬 (수평)\n",
    "\n",
    "ws.Range(\"A2\").VerticalAlignment = -4108 #가운데 정렬(수직)\n",
    "ws.Range(\"A2\").HorizontalAlignment = -4131 #왼쪽 정렬\n",
    "\n",
    "ws.Range(\"C2\").VerticalAlignment = -4108 #가운데 정렬(수직)\n",
    "ws.Range(\"C2\").HorizontalAlignment = -4152 #오른쪽 정렬\n",
    "\n",
    "ws.Range(\"B2\").VerticalAlignment = -4108 #가운데 정렬(수직)\n",
    "ws.Range(\"B2\").HorizontalAlignment = -4108 #가운데 정렬 (수평)"
   ]
  },
  {
   "cell_type": "markdown",
   "id": "2e3bc39d",
   "metadata": {},
   "source": [
    "##### 4. Font, Cell 서식 지우기\n",
    "##### ClearFormats(), Clear(), ClearContents()"
   ]
  },
  {
   "cell_type": "code",
   "execution_count": null,
   "id": "f34dea39",
   "metadata": {},
   "outputs": [
    {
     "data": {
      "text/plain": [
       "True"
      ]
     },
     "execution_count": 15,
     "metadata": {},
     "output_type": "execute_result"
    }
   ],
   "source": [
    "#폰트, 셀서식 초기화(ClearContents일 경우 내용만 삭제, Clear는 내용 서식 모두 초기화)\n",
    "ws.Range(\"A1:C3\").ClearFormats()"
   ]
  }
 ],
 "metadata": {
  "kernelspec": {
   "display_name": "Python 3",
   "language": "python",
   "name": "python3"
  },
  "language_info": {
   "codemirror_mode": {
    "name": "ipython",
    "version": 3
   },
   "file_extension": ".py",
   "mimetype": "text/x-python",
   "name": "python",
   "nbconvert_exporter": "python",
   "pygments_lexer": "ipython3",
   "version": "3.13.4"
  }
 },
 "nbformat": 4,
 "nbformat_minor": 5
}
