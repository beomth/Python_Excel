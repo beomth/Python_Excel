{
 "cells": [
  {
   "cell_type": "code",
   "execution_count": 28,
   "id": "b80e27bd",
   "metadata": {},
   "outputs": [],
   "source": [
    "import openpyxl as op #openpyl 모듈 import"
   ]
  },
  {
   "cell_type": "code",
   "execution_count": 29,
   "id": "ab3efada",
   "metadata": {},
   "outputs": [
    {
     "name": "stdout",
     "output_type": "stream",
     "text": [
      "<openpyxl.workbook.workbook.Workbook object at 0x0000018C399F3D90>\n"
     ]
    }
   ],
   "source": [
    "wb = op.Workbook() # 새로운 Workbook 객체 생성 (엑셀 파일 만들기)\n",
    "\n",
    "print(wb)\n",
    "\n",
    "wb.save(r\"C:\\Users\\ASUS\\Desktop\\Python\\openpyxl_test.xlsx\")"
   ]
  },
  {
   "cell_type": "code",
   "execution_count": 30,
   "id": "3424ff38",
   "metadata": {},
   "outputs": [
    {
     "name": "stdout",
     "output_type": "stream",
     "text": [
      "<openpyxl.workbook.workbook.Workbook object at 0x0000018C399F3250>\n"
     ]
    }
   ],
   "source": [
    "# 기존에 있는 workbook을 객체로 만들기기\n",
    "path = \"C:/Users/ASUS/Desktop/Python\" \n",
    "wb = op.load_workbook(path + \"/openpyxl_test.xlsx\")\n",
    "print(wb)"
   ]
  },
  {
   "cell_type": "code",
   "execution_count": 31,
   "id": "0e569a40",
   "metadata": {},
   "outputs": [
    {
     "name": "stdout",
     "output_type": "stream",
     "text": [
      "<Worksheet \"new_sheet1\">\n"
     ]
    }
   ],
   "source": [
    "ws = wb.create_sheet(\"new_sheet1\") # wb 객체를 통해 새로운시트 생성(시트명 : new_sheet1)\n",
    "wb.create_sheet(\"new_sheet2\")\n",
    "wb.create_sheet(\"new_sheet3\")\n",
    "wb.create_sheet(\"new_sheet4\")\n",
    "wb.create_sheet(\"new_sheet5\")\n",
    "\n",
    "print(ws)\n",
    "\n",
    "wb.save(\"openpyxl_test.xlsx\") # 해당 워크북 저장하기"
   ]
  },
  {
   "cell_type": "code",
   "execution_count": 32,
   "id": "fbf935f3",
   "metadata": {},
   "outputs": [
    {
     "name": "stdout",
     "output_type": "stream",
     "text": [
      "<Worksheet \"Sheet\">\n"
     ]
    }
   ],
   "source": [
    "ws = wb.active # 현재 활성화돼있는 시트 설정\n",
    "print(ws) "
   ]
  },
  {
   "cell_type": "code",
   "execution_count": 33,
   "id": "e0ddd61f",
   "metadata": {},
   "outputs": [
    {
     "name": "stdout",
     "output_type": "stream",
     "text": [
      "<Worksheet \"Sheet\">\n",
      "<Worksheet \"new_sheet1\">\n",
      "<Worksheet \"new_sheet2\">\n",
      "<Worksheet \"new_sheet3\">\n",
      "<Worksheet \"new_sheet4\">\n",
      "<Worksheet \"new_sheet5\">\n"
     ]
    }
   ],
   "source": [
    "ws_list = wb.sheetnames # 해당 workbook의 시트 목록을 리스트로 저장\n",
    "\n",
    "for sht in ws_list:\n",
    "    ws = wb[sht] # Sheet 객체 생성\n",
    "    print(ws) # 객체 출력"
   ]
  },
  {
   "cell_type": "markdown",
   "id": "dc938460",
   "metadata": {},
   "source": [
    "# 3) Cell data 읽기, 쓰기, 삭제"
   ]
  },
  {
   "cell_type": "code",
   "execution_count": null,
   "id": "71d4d712",
   "metadata": {},
   "outputs": [
    {
     "name": "stdout",
     "output_type": "stream",
     "text": [
      "cell(1,2) :  5\n",
      "Range(\"B1\"): 5\n"
     ]
    }
   ],
   "source": [
    "# 읽기\n",
    "wb = op.load_workbook(r\"openpyxl_test.xlsx\")\n",
    "ws = wb.active # 활성화 되어있는 시트 설정\n",
    "\n",
    "# 방법 1 : sheet의 Cell 속성 사용하기\n",
    "data1 = ws.cell(row=1, column=2).value\n",
    "\n",
    "# 방법 2 : 엑셀 인덱스(Range) 사용하기\n",
    "data2 = ws[\"B1\"].value\n",
    "\n",
    "# 위 결과 출력하기\n",
    "print(\"cell(1,2) : \", data1)\n",
    "print('Range(\"B1\"):', data2)"
   ]
  },
  {
   "cell_type": "code",
   "execution_count": 42,
   "id": "c54a4371",
   "metadata": {},
   "outputs": [
    {
     "name": "stdout",
     "output_type": "stream",
     "text": [
      "<Worksheet \"Sheet\">\n",
      "1\n",
      "2\n",
      "3\n",
      "4\n",
      "5\n",
      "6\n",
      "7\n",
      "8\n",
      "9\n"
     ]
    }
   ],
   "source": [
    "wb = op.load_workbook(r\"openpyxl_test.xlsx\")\n",
    "ws = wb.active\n",
    "print(ws)\n",
    "\n",
    "# A1:C3 범위 저장\n",
    "rng = ws[\"A1:C3\"]\n",
    "for rng_data in rng :\n",
    "    for cell_data in rng_data :\n",
    "        print(cell_data.value)\n",
    "\n",
    "wb.save(\"openpyxl_test.xlsx\")"
   ]
  },
  {
   "cell_type": "markdown",
   "id": "514a43ec",
   "metadata": {},
   "source": [
    "# 3-2) 쓰기"
   ]
  },
  {
   "cell_type": "code",
   "execution_count": 45,
   "id": "4e2e28fb",
   "metadata": {},
   "outputs": [
    {
     "name": "stdout",
     "output_type": "stream",
     "text": [
      "None\n",
      "입력테스트1\n",
      "입력테스트2\n",
      "\n",
      "None\n",
      "입력테스트3\n",
      "None\n",
      "\n",
      "None\n",
      "None\n",
      "None\n",
      "\n"
     ]
    }
   ],
   "source": [
    "\n",
    "ws = wb[\"new_sheet1\"]\n",
    "\n",
    "# \"B1\" Cell에 입력하기\n",
    "ws.cell(row=1, column=2).value = \"입력테스트1\"\n",
    "ws.cell(row=2, column=2).value = \"입력테스트3\"\n",
    "# \"C1\" Cell에 입력하기\n",
    "ws[\"C1\"].value = \"입력테스트2\"\n",
    "\n",
    "wb.save(\"openpyxl_test.xlsx\")\n",
    "\n",
    "rng = ws[\"A1:C3\"]\n",
    "\n",
    "for rng_data in rng :\n",
    "    for cell_data in rng_data :\n",
    "        print(cell_data.value)\n",
    "    print()"
   ]
  },
  {
   "cell_type": "code",
   "execution_count": null,
   "id": "a621be18",
   "metadata": {},
   "outputs": [
    {
     "name": "stdout",
     "output_type": "stream",
     "text": [
      "2\n",
      "4\n",
      "5\n",
      "\n",
      "12\n",
      "598\n",
      "13123\n",
      "\n",
      "44444444\n",
      "123123\n",
      "1233323\n",
      "\n"
     ]
    }
   ],
   "source": [
    "datalist = [2, 4, 5, 12, 598, 13123, 44444444, 123123, 1233323]\n",
    "\n",
    "i = 1 # 행값을 바꾸기 위한 인덱스 정의\n",
    "ws = wb[\"new_sheet2\"]\n",
    "j = 0\n",
    "\n",
    "for i in range(3) :\n",
    "    for k in range(3) :\n",
    "        ws.cell(row=i+1, column=k+1).value = datalist[j]\n",
    "        j = j + 1 \n",
    "\n",
    "wb.save(\"openpyxl_test.xlsx\")\n",
    "\n",
    "rng = ws[\"A1:C3\"]\n",
    "for rng_data in rng :\n",
    "    for cell_data in rng_data :\n",
    "        print(cell_data.value)\n",
    "    print()\n",
    "\n"
   ]
  },
  {
   "cell_type": "markdown",
   "id": "eea8d816",
   "metadata": {},
   "source": [
    "# 3-3) data 삭제하기\n",
    "#### 3-2)의 데이터 쓰기에서 공백을 입력하는 것"
   ]
  },
  {
   "cell_type": "code",
   "execution_count": 48,
   "id": "70e988d8",
   "metadata": {},
   "outputs": [
    {
     "name": "stdout",
     "output_type": "stream",
     "text": [
      "<Worksheet \"Sheet\">\n",
      "1\n",
      "\n",
      "3\n",
      "\n",
      "\n",
      "5\n",
      "\n",
      "\n",
      "7\n",
      "\n",
      "9\n",
      "\n"
     ]
    }
   ],
   "source": [
    "ws = wb.active\n",
    "print(ws)\n",
    "# ws에서 데이터 범위 설정\n",
    "rng = ws[\"A1:C3\"]\n",
    "\n",
    "# 튜플에 대한 FOR 문\n",
    "for row_data in rng :\n",
    "    for data in row_data :\n",
    "        # 해당 data가 2로 나눈 나머지가 0이면 공백처리\n",
    "        if data.value is not None and data.value % 2 == 0:\n",
    "            data.value = \"\"\n",
    "\n",
    "#Workbook 객체 저장\n",
    "wb.save(r\"openpyxl_test.xlsx\")\n",
    "\n",
    "for rng_data in rng :\n",
    "    for cell_data in rng_data :\n",
    "        print(cell_data.value)\n",
    "    print()"
   ]
  },
  {
   "cell_type": "markdown",
   "id": "c2994645",
   "metadata": {},
   "source": [
    "#### delete_rows, delete_cols 사용하기\n",
    "##### ws.delete_cols(2, 1) == 2열에서 1번째까지 삭제"
   ]
  },
  {
   "cell_type": "code",
   "execution_count": 20,
   "id": "55c9f891",
   "metadata": {},
   "outputs": [
    {
     "name": "stdout",
     "output_type": "stream",
     "text": [
      "1 2 3 \n",
      "4 5 6 \n",
      "7 8 9 \n"
     ]
    }
   ],
   "source": [
    "ws = wb[\"new_sheet3\"]\n",
    "\n",
    "# \"B1\" Cell에 입력하기\n",
    "rng = ws[\"A1:C3\"]\n",
    "\n",
    "i = 1\n",
    "\n",
    "for data in rng :\n",
    "    for cell in data :\n",
    "        cell.value = i\n",
    "        i=i+1\n",
    "\n",
    "wb.save(\"openpyxl_test.xlsx\")\n",
    "\n",
    "for row_ in rng :\n",
    "    for cell in row_ :\n",
    "        print(cell.value, end=\" \")\n",
    "    print()\n"
   ]
  },
  {
   "cell_type": "code",
   "execution_count": 27,
   "id": "f432eec9",
   "metadata": {},
   "outputs": [
    {
     "name": "stdout",
     "output_type": "stream",
     "text": [
      "1 2 3 \n",
      "4 5 6 \n",
      "7 8 9 \n"
     ]
    }
   ],
   "source": [
    "# 1행부터 2개행까지 행을 삭제한다\n",
    "ws= wb[\"new_sheet3\"]\n",
    "ws.delete_rows(1,2)\n",
    "\n",
    "# Workbook 객체 저장\n",
    "wb.save(r\"openpyxl_test.xlsx\")\n",
    "\n",
    "for data in rng :\n",
    "    for cell in data :\n",
    "        print(cell.value, end=\" \")\n",
    "    print()"
   ]
  },
  {
   "cell_type": "code",
   "execution_count": 22,
   "id": "62ea4013",
   "metadata": {},
   "outputs": [],
   "source": [
    "ws.delete_cols(2,1)\n",
    "wb.save(r\"openpyxl_test.xlsx\")"
   ]
  },
  {
   "cell_type": "markdown",
   "id": "f88579ca",
   "metadata": {},
   "source": [
    "# 3-4) 시트를 통째로 삭제하고 다시 생성하기"
   ]
  },
  {
   "cell_type": "code",
   "execution_count": 51,
   "id": "f0a1363e",
   "metadata": {},
   "outputs": [
    {
     "name": "stdout",
     "output_type": "stream",
     "text": [
      "<Worksheet \"Sheet\">\n",
      "<Worksheet \"new_sheet1\">\n",
      "<Worksheet \"new_sheet2\">\n",
      "<Worksheet \"new_sheet3\">\n",
      "<Worksheet \"new_sheet4\">\n",
      "<Worksheet \"new_sheet5\">\n",
      "<Worksheet \"test\">\n"
     ]
    }
   ],
   "source": [
    "wb = op.load_workbook(r\"openpyxl_test.xlsx\")\n",
    "# 'test'라는 이름을 가진 Sheet를 객체로 생성\n",
    "wb.create_sheet(\"test\")\n",
    "\n",
    "ws = wb.active\n",
    "ws_list = wb.sheetnames # 해당 workbook의 시트 목록을 리스트로 저장\n",
    "\n",
    "for sht in ws_list:\n",
    "    ws = wb[sht] # Sheet 객체 생성\n",
    "    print(ws) # 객체 출력\n"
   ]
  },
  {
   "cell_type": "code",
   "execution_count": null,
   "id": "11f14ced",
   "metadata": {},
   "outputs": [],
   "source": [
    "# test 시트 삭제\n",
    "wb.remove(ws)\n",
    "\n",
    "# test 시트 재생성\n",
    "wb.create_sheet('test')\n",
    "\n",
    "wb.save(r\"openpyxl_test.xlsx\")"
   ]
  },
  {
   "cell_type": "markdown",
   "id": "180a52e5",
   "metadata": {},
   "source": [
    "# 3-1-4) rows, columns 속성 이해하기"
   ]
  },
  {
   "cell_type": "code",
   "execution_count": 84,
   "id": "48543804",
   "metadata": {},
   "outputs": [
    {
     "name": "stdout",
     "output_type": "stream",
     "text": [
      "((<Cell 'new_sheet4'.A1>, <Cell 'new_sheet4'.B1>, <Cell 'new_sheet4'.C1>), (<Cell 'new_sheet4'.A2>, <Cell 'new_sheet4'.B2>, <Cell 'new_sheet4'.C2>), (<Cell 'new_sheet4'.A3>, <Cell 'new_sheet4'.B3>, <Cell 'new_sheet4'.C3>))\n"
     ]
    }
   ],
   "source": [
    "wb = op.load_workbook(r\"openpyxl_test.xlsx\")\n",
    "ws = wb[\"new_sheet4\"]\n",
    "wb.remove(ws)\n",
    "wb.create_sheet(\"new_sheet4\")\n",
    "ws = wb[\"new_sheet4\"]\n",
    "rng = ws[\"A1:C3\"]\n",
    "# Cell에 값 입력하기\n",
    "k = 1\n",
    "for i in range(4) :\n",
    "    for j in range(4) :\n",
    "        ws.cell(row=i+1, column=j+1).value = k\n",
    "        k = k + 1 \n",
    "    \n",
    "        \n",
    "rng = ws[\"A1:C3\"]\n",
    "\n",
    "wb.save(r\"openpyxl_test.xlsx\")\n",
    "print(rng)"
   ]
  },
  {
   "cell_type": "code",
   "execution_count": 81,
   "id": "0e077485",
   "metadata": {},
   "outputs": [
    {
     "name": "stdout",
     "output_type": "stream",
     "text": [
      "#rows 출력\n",
      "(<Cell 'new_sheet4'.A1>, <Cell 'new_sheet4'.B1>, <Cell 'new_sheet4'.C1>)\n",
      "(<Cell 'new_sheet4'.A2>, <Cell 'new_sheet4'.B2>, <Cell 'new_sheet4'.C2>)\n",
      "(<Cell 'new_sheet4'.A3>, <Cell 'new_sheet4'.B3>, <Cell 'new_sheet4'.C3>)\n"
     ]
    }
   ],
   "source": [
    "print(\"#rows 출력\")\n",
    "for row_rng in ws.rows :\n",
    "    print(row_rng) # 각 행에 대한 1차원 배열 출력(위치정보)"
   ]
  },
  {
   "cell_type": "code",
   "execution_count": 82,
   "id": "f25df3ba",
   "metadata": {},
   "outputs": [
    {
     "name": "stdout",
     "output_type": "stream",
     "text": [
      "#columns 출력\n",
      "(<Cell 'new_sheet4'.A1>, <Cell 'new_sheet4'.A2>, <Cell 'new_sheet4'.A3>)\n",
      "(<Cell 'new_sheet4'.B1>, <Cell 'new_sheet4'.B2>, <Cell 'new_sheet4'.B3>)\n",
      "(<Cell 'new_sheet4'.C1>, <Cell 'new_sheet4'.C2>, <Cell 'new_sheet4'.C3>)\n"
     ]
    }
   ],
   "source": [
    "print(\"#columns 출력\")\n",
    "for column_rng in ws.columns :\n",
    "    print(column_rng) # 각 열에 대한 1차원 배열 출력(위치정보)"
   ]
  },
  {
   "cell_type": "code",
   "execution_count": 85,
   "id": "96063395",
   "metadata": {},
   "outputs": [
    {
     "name": "stdout",
     "output_type": "stream",
     "text": [
      "1\n",
      "2\n",
      "3\n",
      "4\n",
      "5\n",
      "6\n",
      "7\n",
      "8\n",
      "9\n",
      "10\n",
      "11\n",
      "12\n",
      "13\n",
      "14\n",
      "15\n",
      "16\n"
     ]
    }
   ],
   "source": [
    "for row_rng in ws.rows :\n",
    "    for cell in row_rng :\n",
    "        print(cell.value)"
   ]
  },
  {
   "cell_type": "code",
   "execution_count": 86,
   "id": "673f3add",
   "metadata": {},
   "outputs": [
    {
     "name": "stdout",
     "output_type": "stream",
     "text": [
      "1\n",
      "5\n",
      "9\n",
      "13\n",
      "2\n",
      "6\n",
      "10\n",
      "14\n",
      "3\n",
      "7\n",
      "11\n",
      "15\n",
      "4\n",
      "8\n",
      "12\n",
      "16\n"
     ]
    }
   ],
   "source": [
    "for column_rng in ws.columns :\n",
    "    for cell in column_rng :\n",
    "        print(cell.value)"
   ]
  },
  {
   "cell_type": "code",
   "execution_count": null,
   "id": "6381228b",
   "metadata": {},
   "outputs": [],
   "source": []
  }
 ],
 "metadata": {
  "kernelspec": {
   "display_name": "Python 3",
   "language": "python",
   "name": "python3"
  },
  "language_info": {
   "codemirror_mode": {
    "name": "ipython",
    "version": 3
   },
   "file_extension": ".py",
   "mimetype": "text/x-python",
   "name": "python",
   "nbconvert_exporter": "python",
   "pygments_lexer": "ipython3",
   "version": "3.13.4"
  }
 },
 "nbformat": 4,
 "nbformat_minor": 5
}
