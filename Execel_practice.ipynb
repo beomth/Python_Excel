{
 "cells": [
  {
   "cell_type": "code",
   "execution_count": 28,
   "id": "b80e27bd",
   "metadata": {},
   "outputs": [],
   "source": [
    "import openpyxl as op #openpyl 모듈 import"
   ]
  },
  {
   "cell_type": "code",
   "execution_count": 29,
   "id": "ab3efada",
   "metadata": {},
   "outputs": [
    {
     "name": "stdout",
     "output_type": "stream",
     "text": [
      "<openpyxl.workbook.workbook.Workbook object at 0x0000018C399F3D90>\n"
     ]
    }
   ],
   "source": [
    "wb = op.Workbook() # 새로운 Workbook 객체 생성 (엑셀 파일 만들기)\n",
    "\n",
    "print(wb)\n",
    "\n",
    "wb.save(r\"C:\\Users\\ASUS\\Desktop\\Python\\openpyxl_test.xlsx\")"
   ]
  },
  {
   "cell_type": "code",
   "execution_count": 30,
   "id": "3424ff38",
   "metadata": {},
   "outputs": [
    {
     "name": "stdout",
     "output_type": "stream",
     "text": [
      "<openpyxl.workbook.workbook.Workbook object at 0x0000018C399F3250>\n"
     ]
    }
   ],
   "source": [
    "# 기존에 있는 workbook을 객체로 만들기기\n",
    "path = \"C:/Users/ASUS/Desktop/Python\" \n",
    "wb = op.load_workbook(path + \"/openpyxl_test.xlsx\")\n",
    "print(wb)"
   ]
  },
  {
   "cell_type": "code",
   "execution_count": 31,
   "id": "0e569a40",
   "metadata": {},
   "outputs": [
    {
     "name": "stdout",
     "output_type": "stream",
     "text": [
      "<Worksheet \"new_sheet1\">\n"
     ]
    }
   ],
   "source": [
    "ws = wb.create_sheet(\"new_sheet1\") # wb 객체를 통해 새로운시트 생성(시트명 : new_sheet1)\n",
    "wb.create_sheet(\"new_sheet2\")\n",
    "wb.create_sheet(\"new_sheet3\")\n",
    "wb.create_sheet(\"new_sheet4\")\n",
    "wb.create_sheet(\"new_sheet5\")\n",
    "\n",
    "print(ws)\n",
    "\n",
    "wb.save(\"openpyxl_test.xlsx\") # 해당 워크북 저장하기"
   ]
  },
  {
   "cell_type": "code",
   "execution_count": 32,
   "id": "fbf935f3",
   "metadata": {},
   "outputs": [
    {
     "name": "stdout",
     "output_type": "stream",
     "text": [
      "<Worksheet \"Sheet\">\n"
     ]
    }
   ],
   "source": [
    "ws = wb.active # 현재 활성화돼있는 시트 설정\n",
    "print(ws) "
   ]
  },
  {
   "cell_type": "code",
   "execution_count": 33,
   "id": "e0ddd61f",
   "metadata": {},
   "outputs": [
    {
     "name": "stdout",
     "output_type": "stream",
     "text": [
      "<Worksheet \"Sheet\">\n",
      "<Worksheet \"new_sheet1\">\n",
      "<Worksheet \"new_sheet2\">\n",
      "<Worksheet \"new_sheet3\">\n",
      "<Worksheet \"new_sheet4\">\n",
      "<Worksheet \"new_sheet5\">\n"
     ]
    }
   ],
   "source": [
    "ws_list = wb.sheetnames # 해당 workbook의 시트 목록을 리스트로 저장\n",
    "\n",
    "for sht in ws_list:\n",
    "    ws = wb[sht] # Sheet 객체 생성\n",
    "    print(ws) # 객체 출력"
   ]
  },
  {
   "cell_type": "markdown",
   "id": "dc938460",
   "metadata": {},
   "source": [
    "# 3) Cell data 읽기, 쓰기, 삭제"
   ]
  },
  {
   "cell_type": "code",
   "execution_count": null,
   "id": "71d4d712",
   "metadata": {},
   "outputs": [
    {
     "name": "stdout",
     "output_type": "stream",
     "text": [
      "cell(1,2) :  5\n",
      "Range(\"B1\"): 5\n"
     ]
    }
   ],
   "source": [
    "# 읽기\n",
    "wb = op.load_workbook(r\"openpyxl_test.xlsx\")\n",
    "ws = wb.active # 활성화 되어있는 시트 설정\n",
    "\n",
    "# 방법 1 : sheet의 Cell 속성 사용하기\n",
    "data1 = ws.cell(row=1, column=2).value\n",
    "\n",
    "# 방법 2 : 엑셀 인덱스(Range) 사용하기\n",
    "data2 = ws[\"B1\"].value\n",
    "\n",
    "# 위 결과 출력하기\n",
    "print(\"cell(1,2) : \", data1)\n",
    "print('Range(\"B1\"):', data2)"
   ]
  },
  {
   "cell_type": "code",
   "execution_count": 42,
   "id": "c54a4371",
   "metadata": {},
   "outputs": [
    {
     "name": "stdout",
     "output_type": "stream",
     "text": [
      "<Worksheet \"Sheet\">\n",
      "1\n",
      "2\n",
      "3\n",
      "4\n",
      "5\n",
      "6\n",
      "7\n",
      "8\n",
      "9\n"
     ]
    }
   ],
   "source": [
    "wb = op.load_workbook(r\"openpyxl_test.xlsx\")\n",
    "ws = wb.active\n",
    "print(ws)\n",
    "\n",
    "# A1:C3 범위 저장\n",
    "rng = ws[\"A1:C3\"]\n",
    "for rng_data in rng :\n",
    "    for cell_data in rng_data :\n",
    "        print(cell_data.value)\n",
    "\n",
    "wb.save(\"openpyxl_test.xlsx\")"
   ]
  },
  {
   "cell_type": "markdown",
   "id": "514a43ec",
   "metadata": {},
   "source": [
    "# 3-2) 쓰기"
   ]
  },
  {
   "cell_type": "code",
   "execution_count": 45,
   "id": "4e2e28fb",
   "metadata": {},
   "outputs": [
    {
     "name": "stdout",
     "output_type": "stream",
     "text": [
      "None\n",
      "입력테스트1\n",
      "입력테스트2\n",
      "\n",
      "None\n",
      "입력테스트3\n",
      "None\n",
      "\n",
      "None\n",
      "None\n",
      "None\n",
      "\n"
     ]
    }
   ],
   "source": [
    "\n",
    "ws = wb[\"new_sheet1\"]\n",
    "\n",
    "# \"B1\" Cell에 입력하기\n",
    "ws.cell(row=1, column=2).value = \"입력테스트1\"\n",
    "ws.cell(row=2, column=2).value = \"입력테스트3\"\n",
    "# \"C1\" Cell에 입력하기\n",
    "ws[\"C1\"].value = \"입력테스트2\"\n",
    "\n",
    "wb.save(\"openpyxl_test.xlsx\")\n",
    "\n",
    "rng = ws[\"A1:C3\"]\n",
    "\n",
    "for rng_data in rng :\n",
    "    for cell_data in rng_data :\n",
    "        print(cell_data.value)\n",
    "    print()"
   ]
  },
  {
   "cell_type": "code",
   "execution_count": null,
   "id": "a621be18",
   "metadata": {},
   "outputs": [
    {
     "name": "stdout",
     "output_type": "stream",
     "text": [
      "2\n",
      "4\n",
      "5\n",
      "\n",
      "12\n",
      "598\n",
      "13123\n",
      "\n",
      "44444444\n",
      "123123\n",
      "1233323\n",
      "\n"
     ]
    }
   ],
   "source": [
    "datalist = [2, 4, 5, 12, 598, 13123, 44444444, 123123, 1233323]\n",
    "\n",
    "i = 1 # 행값을 바꾸기 위한 인덱스 정의\n",
    "ws = wb[\"new_sheet2\"]\n",
    "j = 0\n",
    "\n",
    "for i in range(3) :\n",
    "    for k in range(3) :\n",
    "        ws.cell(row=i+1, column=k+1).value = datalist[j]\n",
    "        j = j + 1 \n",
    "\n",
    "wb.save(\"openpyxl_test.xlsx\")\n",
    "\n",
    "rng = ws[\"A1:C3\"]\n",
    "for rng_data in rng :\n",
    "    for cell_data in rng_data :\n",
    "        print(cell_data.value)\n",
    "    print()\n",
    "\n"
   ]
  },
  {
   "cell_type": "markdown",
   "id": "eea8d816",
   "metadata": {},
   "source": [
    "# 3-3) data 삭제하기\n",
    "#### 3-2)의 데이터 쓰기에서 공백을 입력하는 것"
   ]
  },
  {
   "cell_type": "code",
   "execution_count": 48,
   "id": "70e988d8",
   "metadata": {},
   "outputs": [
    {
     "name": "stdout",
     "output_type": "stream",
     "text": [
      "<Worksheet \"Sheet\">\n",
      "1\n",
      "\n",
      "3\n",
      "\n",
      "\n",
      "5\n",
      "\n",
      "\n",
      "7\n",
      "\n",
      "9\n",
      "\n"
     ]
    }
   ],
   "source": [
    "ws = wb.active\n",
    "print(ws)\n",
    "# ws에서 데이터 범위 설정\n",
    "rng = ws[\"A1:C3\"]\n",
    "\n",
    "# 튜플에 대한 FOR 문\n",
    "for row_data in rng :\n",
    "    for data in row_data :\n",
    "        # 해당 data가 2로 나눈 나머지가 0이면 공백처리\n",
    "        if data.value is not None and data.value % 2 == 0:\n",
    "            data.value = \"\"\n",
    "\n",
    "#Workbook 객체 저장\n",
    "wb.save(r\"openpyxl_test.xlsx\")\n",
    "\n",
    "for rng_data in rng :\n",
    "    for cell_data in rng_data :\n",
    "        print(cell_data.value)\n",
    "    print()"
   ]
  },
  {
   "cell_type": "markdown",
   "id": "c2994645",
   "metadata": {},
   "source": [
    "#### delete_rows, delete_cols 사용하기\n",
    "##### ws.delete_cols(2, 1) == 2열에서 1번째까지 삭제"
   ]
  },
  {
   "cell_type": "code",
   "execution_count": 20,
   "id": "55c9f891",
   "metadata": {},
   "outputs": [
    {
     "name": "stdout",
     "output_type": "stream",
     "text": [
      "1 2 3 \n",
      "4 5 6 \n",
      "7 8 9 \n"
     ]
    }
   ],
   "source": [
    "ws = wb[\"new_sheet3\"]\n",
    "\n",
    "# \"B1\" Cell에 입력하기\n",
    "rng = ws[\"A1:C3\"]\n",
    "\n",
    "i = 1\n",
    "\n",
    "for data in rng :\n",
    "    for cell in data :\n",
    "        cell.value = i\n",
    "        i=i+1\n",
    "\n",
    "wb.save(\"openpyxl_test.xlsx\")\n",
    "\n",
    "for row_ in rng :\n",
    "    for cell in row_ :\n",
    "        print(cell.value, end=\" \")\n",
    "    print()\n"
   ]
  },
  {
   "cell_type": "code",
   "execution_count": 27,
   "id": "f432eec9",
   "metadata": {},
   "outputs": [
    {
     "name": "stdout",
     "output_type": "stream",
     "text": [
      "1 2 3 \n",
      "4 5 6 \n",
      "7 8 9 \n"
     ]
    }
   ],
   "source": [
    "# 1행부터 2개행까지 행을 삭제한다\n",
    "ws= wb[\"new_sheet3\"]\n",
    "ws.delete_rows(1,2)\n",
    "\n",
    "# Workbook 객체 저장\n",
    "wb.save(r\"openpyxl_test.xlsx\")\n",
    "\n",
    "for data in rng :\n",
    "    for cell in data :\n",
    "        print(cell.value, end=\" \")\n",
    "    print()"
   ]
  },
  {
   "cell_type": "code",
   "execution_count": 22,
   "id": "62ea4013",
   "metadata": {},
   "outputs": [],
   "source": [
    "ws.delete_cols(2,1)\n",
    "wb.save(r\"openpyxl_test.xlsx\")"
   ]
  },
  {
   "cell_type": "markdown",
   "id": "f88579ca",
   "metadata": {},
   "source": [
    "# 3-4) 시트를 통째로 삭제하고 다시 생성하기"
   ]
  },
  {
   "cell_type": "code",
   "execution_count": 51,
   "id": "f0a1363e",
   "metadata": {},
   "outputs": [
    {
     "name": "stdout",
     "output_type": "stream",
     "text": [
      "<Worksheet \"Sheet\">\n",
      "<Worksheet \"new_sheet1\">\n",
      "<Worksheet \"new_sheet2\">\n",
      "<Worksheet \"new_sheet3\">\n",
      "<Worksheet \"new_sheet4\">\n",
      "<Worksheet \"new_sheet5\">\n",
      "<Worksheet \"test\">\n"
     ]
    }
   ],
   "source": [
    "wb = op.load_workbook(r\"openpyxl_test.xlsx\")\n",
    "# 'test'라는 이름을 가진 Sheet를 객체로 생성\n",
    "wb.create_sheet(\"test\")\n",
    "\n",
    "ws = wb.active\n",
    "ws_list = wb.sheetnames # 해당 workbook의 시트 목록을 리스트로 저장\n",
    "\n",
    "for sht in ws_list:\n",
    "    ws = wb[sht] # Sheet 객체 생성\n",
    "    print(ws) # 객체 출력\n"
   ]
  },
  {
   "cell_type": "code",
   "execution_count": null,
   "id": "11f14ced",
   "metadata": {},
   "outputs": [],
   "source": [
    "# test 시트 삭제\n",
    "wb.remove(ws)\n",
    "\n",
    "# test 시트 재생성\n",
    "wb.create_sheet('test')\n",
    "\n",
    "wb.save(r\"openpyxl_test.xlsx\")"
   ]
  },
  {
   "cell_type": "markdown",
   "id": "180a52e5",
   "metadata": {},
   "source": [
    "# 3-1-4) rows, columns 속성 이해하기"
   ]
  },
  {
   "cell_type": "code",
   "execution_count": 84,
   "id": "48543804",
   "metadata": {},
   "outputs": [
    {
     "name": "stdout",
     "output_type": "stream",
     "text": [
      "((<Cell 'new_sheet4'.A1>, <Cell 'new_sheet4'.B1>, <Cell 'new_sheet4'.C1>), (<Cell 'new_sheet4'.A2>, <Cell 'new_sheet4'.B2>, <Cell 'new_sheet4'.C2>), (<Cell 'new_sheet4'.A3>, <Cell 'new_sheet4'.B3>, <Cell 'new_sheet4'.C3>))\n"
     ]
    }
   ],
   "source": [
    "wb = op.load_workbook(r\"openpyxl_test.xlsx\")\n",
    "ws = wb[\"new_sheet4\"]\n",
    "wb.remove(ws)\n",
    "wb.create_sheet(\"new_sheet4\")\n",
    "ws = wb[\"new_sheet4\"]\n",
    "rng = ws[\"A1:C3\"]\n",
    "# Cell에 값 입력하기\n",
    "k = 1\n",
    "for i in range(4) :\n",
    "    for j in range(4) :\n",
    "        ws.cell(row=i+1, column=j+1).value = k\n",
    "        k = k + 1 \n",
    "    \n",
    "        \n",
    "rng = ws[\"A1:C3\"]\n",
    "\n",
    "wb.save(r\"openpyxl_test.xlsx\")\n",
    "print(rng)"
   ]
  },
  {
   "cell_type": "code",
   "execution_count": 81,
   "id": "0e077485",
   "metadata": {},
   "outputs": [
    {
     "name": "stdout",
     "output_type": "stream",
     "text": [
      "#rows 출력\n",
      "(<Cell 'new_sheet4'.A1>, <Cell 'new_sheet4'.B1>, <Cell 'new_sheet4'.C1>)\n",
      "(<Cell 'new_sheet4'.A2>, <Cell 'new_sheet4'.B2>, <Cell 'new_sheet4'.C2>)\n",
      "(<Cell 'new_sheet4'.A3>, <Cell 'new_sheet4'.B3>, <Cell 'new_sheet4'.C3>)\n"
     ]
    }
   ],
   "source": [
    "print(\"#rows 출력\")\n",
    "for row_rng in ws.rows :\n",
    "    print(row_rng) # 각 행에 대한 1차원 배열 출력(위치정보)"
   ]
  },
  {
   "cell_type": "code",
   "execution_count": 82,
   "id": "f25df3ba",
   "metadata": {},
   "outputs": [
    {
     "name": "stdout",
     "output_type": "stream",
     "text": [
      "#columns 출력\n",
      "(<Cell 'new_sheet4'.A1>, <Cell 'new_sheet4'.A2>, <Cell 'new_sheet4'.A3>)\n",
      "(<Cell 'new_sheet4'.B1>, <Cell 'new_sheet4'.B2>, <Cell 'new_sheet4'.B3>)\n",
      "(<Cell 'new_sheet4'.C1>, <Cell 'new_sheet4'.C2>, <Cell 'new_sheet4'.C3>)\n"
     ]
    }
   ],
   "source": [
    "print(\"#columns 출력\")\n",
    "for column_rng in ws.columns :\n",
    "    print(column_rng) # 각 열에 대한 1차원 배열 출력(위치정보)"
   ]
  },
  {
   "cell_type": "code",
   "execution_count": 85,
   "id": "96063395",
   "metadata": {},
   "outputs": [
    {
     "name": "stdout",
     "output_type": "stream",
     "text": [
      "1\n",
      "2\n",
      "3\n",
      "4\n",
      "5\n",
      "6\n",
      "7\n",
      "8\n",
      "9\n",
      "10\n",
      "11\n",
      "12\n",
      "13\n",
      "14\n",
      "15\n",
      "16\n"
     ]
    }
   ],
   "source": [
    "for row_rng in ws.rows :\n",
    "    for cell in row_rng :\n",
    "        print(cell.value)"
   ]
  },
  {
   "cell_type": "code",
   "execution_count": 86,
   "id": "673f3add",
   "metadata": {},
   "outputs": [
    {
     "name": "stdout",
     "output_type": "stream",
     "text": [
      "1\n",
      "5\n",
      "9\n",
      "13\n",
      "2\n",
      "6\n",
      "10\n",
      "14\n",
      "3\n",
      "7\n",
      "11\n",
      "15\n",
      "4\n",
      "8\n",
      "12\n",
      "16\n"
     ]
    }
   ],
   "source": [
    "for column_rng in ws.columns :\n",
    "    for cell in column_rng :\n",
    "        print(cell.value)"
   ]
  },
  {
   "cell_type": "markdown",
   "id": "cca5d4ca",
   "metadata": {},
   "source": [
    "# 3-1-5) 엑셀 함수 쓰기 - max_row, max_column 속성의 이해"
   ]
  },
  {
   "cell_type": "code",
   "execution_count": 30,
   "id": "6381228b",
   "metadata": {},
   "outputs": [],
   "source": [
    "import openpyxl as op #openpyl 모듈 import\n",
    "\n",
    "wb = op.load_workbook(r\"openpyxl_test.xlsx\")\n",
    "ws = wb[\"new_sheet2\"]\n",
    "\n",
    "# 액셀 함수를 실제 Cell에 써보기\n",
    "ws[\"E7\"].value = \"=SUM(C:C)\"\n",
    "\n",
    "wb.save(r\"openpyxl_test.xlsx\")"
   ]
  },
  {
   "cell_type": "code",
   "execution_count": 31,
   "id": "112e6265",
   "metadata": {},
   "outputs": [
    {
     "name": "stdout",
     "output_type": "stream",
     "text": [
      "최대행값 :  7\n",
      "최대열값 :  5\n"
     ]
    }
   ],
   "source": [
    "# row_max, col_max로 행/열의 최대값을 정수로 반환하기\n",
    "ws = wb[\"new_sheet2\"]\n",
    "col_max = ws.max_column\n",
    "row_max = ws.max_row\n",
    "ws.delete_rows(7)\n",
    "wb.save(r\"openpyxl_test.xlsx\")\n",
    "#real_row_max = max([cell.row for cell in ws['A'] if cell.value is not None])\n",
    "\n",
    "print(\"최대행값 : \", row_max)\n",
    "print(\"최대열값 : \", col_max)"
   ]
  },
  {
   "cell_type": "code",
   "execution_count": 52,
   "id": "f9283ed3",
   "metadata": {},
   "outputs": [],
   "source": [
    "import openpyxl as op #openpyl 모듈 import\n",
    "\n",
    "ws = wb.active\n",
    "\n",
    "# for문 통해 2행 ~ 최대행까지 반복문\n",
    "# range(a, b+1) : a부터 b까지 반복하는 range 구문\n",
    "for row in range(2, row_max+1) :\n",
    "    # 함수 자동 작성\n",
    "    # 위 반복문의 정수 row를 str(row)로 표기한 것\n",
    "    ws[\"E\"+str(row)].value = \"=C\"+str(row)+\"*\"+\"D\"+str(row)\n",
    "\n",
    "wb.save(r\"openpyxl_test.xlsx\")\n",
    "wb.save(r\"result.xlsx\")"
   ]
  },
  {
   "cell_type": "markdown",
   "id": "9be703a8",
   "metadata": {},
   "source": [
    "##### 수정하려면 .load_workbook()함수 내로 가서\n",
    "###### data_only = True일 경우 수식이 계산된 값을 읽어옵니다. (기본 False이므로 설정하지 않으면 함수나 수식 그대로 읽어옵니다.)\n",
    "###### read_only = True일 경우 읽기 전용으로 읽어오는 옵션입니다. 엑셀을 수정하지 않고 데이터만 읽어올 경우 read_only=True로 작성하는게 속도 측면에서 빠릅니다. (기본 False이므로 설정하지 않으면 읽기/쓰기 모두 가능합니다.)\n",
    "\n"
   ]
  },
  {
   "cell_type": "code",
   "execution_count": 59,
   "id": "62a56d96",
   "metadata": {},
   "outputs": [
    {
     "name": "stdout",
     "output_type": "stream",
     "text": [
      "['총가격', 25000, 900, 440000, 10000, 10000, 0]\n"
     ]
    }
   ],
   "source": [
    "wb1 = op.load_workbook(r\"C:\\Users\\ASUS\\Desktop\\Python\\result.xlsx\", data_only=True)\n",
    "ws1 = wb1[\"new_sheet2\"]\n",
    "\n",
    "data = []\n",
    "for row in ws1.rows :\n",
    "    data.append(row[4].value)\n",
    "\n",
    "print(data)"
   ]
  },
  {
   "cell_type": "markdown",
   "id": "ef3d0672",
   "metadata": {},
   "source": [
    "###### openpyxl에서는 \"=C2D2\"와 같은 수식을 문자열로 인식하여 엑셀 파일에 입력은 하지만 실제 위 수식을 계산하여 표시하진 않습니다. 계산의 영역은 파이썬이 아닌 실제 엑셀 프로그램의 영역이기 때문입니다. 그래서 파이썬 코드 상에서 .save( )를 하고 그대로 \"result.xlsx' 결과 파일을 읽어오면 저희가 입력한 수식 문자열을 그대로 불러오는겁니다."
   ]
  },
  {
   "cell_type": "markdown",
   "id": "00ebf2b1",
   "metadata": {},
   "source": []
  },
  {
   "cell_type": "code",
   "execution_count": 60,
   "id": "de8b70d7",
   "metadata": {},
   "outputs": [],
   "source": [
    "# path = C:\\Users\\ASUS\\Desktop\\Python\n",
    "import  win32com.client #win32com.client 모듈 import\n",
    "import pythoncom\n",
    "\n",
    "pythoncom.CoInitialize()\n",
    "\n",
    "#excel 사용할 수 있게 설정\n",
    "excel = win32com.client.Dispatch(\"Excel.Application\")\n",
    "\n",
    "#임시 Workbook 객체 생성 및 엑셀 열기\n",
    "temp_wb = excel.Workbooks.Open(r\"C:\\Users\\ASUS\\Desktop\\Python\\result.xlsx\")\n",
    "\n",
    "#저장\n",
    "temp_wb.Save()\n",
    "\n",
    "#excel 종료\n",
    "excel.quit()"
   ]
  },
  {
   "cell_type": "code",
   "execution_count": null,
   "id": "ef00287e",
   "metadata": {},
   "outputs": [
    {
     "ename": "com_error",
     "evalue": "(-2147352567, '예외가 발생했습니다.', (0, 'Microsoft Excel', \"'result.xlsx'을(를) 찾을 수 없습니다. 파일의 이름이 변경되었거나 파일이 이동 또는 삭제되지 않았는지 확인하세요.\", 'xlmain11.chm', 0, -2146827284), None)",
     "output_type": "error",
     "traceback": [
      "\u001b[31m---------------------------------------------------------------------------\u001b[39m",
      "\u001b[31mcom_error\u001b[39m                                 Traceback (most recent call last)",
      "\u001b[36mCell\u001b[39m\u001b[36m \u001b[39m\u001b[32mIn[61]\u001b[39m\u001b[32m, line 43\u001b[39m\n\u001b[32m     41\u001b[39m \u001b[38;5;28;01mif\u001b[39;00m  \u001b[34m__name__\u001b[39m == \u001b[33m\"\u001b[39m\u001b[33m__main__\u001b[39m\u001b[33m\"\u001b[39m:\n\u001b[32m     42\u001b[39m     writeFunc() \u001b[38;5;66;03m#writeFunc 실행\u001b[39;00m\n\u001b[32m---> \u001b[39m\u001b[32m43\u001b[39m     \u001b[43mloadData\u001b[49m\u001b[43m(\u001b[49m\u001b[43m)\u001b[49m \u001b[38;5;66;03m#loadData 실행\u001b[39;00m\n",
      "\u001b[36mCell\u001b[39m\u001b[36m \u001b[39m\u001b[32mIn[61]\u001b[39m\u001b[32m, line 24\u001b[39m, in \u001b[36mloadData\u001b[39m\u001b[34m()\u001b[39m\n\u001b[32m     21\u001b[39m \u001b[38;5;28;01mdef\u001b[39;00m\u001b[38;5;250m  \u001b[39m\u001b[34mloadData\u001b[39m():\n\u001b[32m     22\u001b[39m     \u001b[38;5;66;03m#엑셀 직접 실행시키고 저장 및 종료\u001b[39;00m\n\u001b[32m     23\u001b[39m     excel = win32com.client.Dispatch(\u001b[33m\"\u001b[39m\u001b[33mExcel.Application\u001b[39m\u001b[33m\"\u001b[39m)\n\u001b[32m---> \u001b[39m\u001b[32m24\u001b[39m     temp_wb = \u001b[43mexcel\u001b[49m\u001b[43m.\u001b[49m\u001b[43mWorkbooks\u001b[49m\u001b[43m.\u001b[49m\u001b[43mOpen\u001b[49m\u001b[43m(\u001b[49m\u001b[33;43mr\u001b[39;49m\u001b[33;43m\"\u001b[39;49m\u001b[33;43mresult.xlsx\u001b[39;49m\u001b[33;43m\"\u001b[39;49m\u001b[43m)\u001b[49m\n\u001b[32m     25\u001b[39m     temp_wb.Save()\n\u001b[32m     26\u001b[39m     excel.quit()\n",
      "\u001b[36mFile \u001b[39m\u001b[32m<COMObject <unknown>>:5\u001b[39m, in \u001b[36mOpen\u001b[39m\u001b[34m(self, Filename, UpdateLinks, ReadOnly, Format, Password, WriteResPassword, IgnoreReadOnlyRecommended, Origin, Delimiter, Editable, Notify, Converter, AddToMru, Local, CorruptLoad)\u001b[39m\n",
      "\u001b[31mcom_error\u001b[39m: (-2147352567, '예외가 발생했습니다.', (0, 'Microsoft Excel', \"'result.xlsx'을(를) 찾을 수 없습니다. 파일의 이름이 변경되었거나 파일이 이동 또는 삭제되지 않았는지 확인하세요.\", 'xlmain11.chm', 0, -2146827284), None)"
     ]
    }
   ],
   "source": [
    "# import  openpyxl  as  op  #openpyxl 모듈 import\n",
    "# import  win32com.client\n",
    "\n",
    "\n",
    "\n",
    "# def  writeFunc():\n",
    "#     wb = op.load_workbook(r\"test.xlsx\") #Workbook 객체 생성\n",
    "#     ws = wb.active  #활성화 된 시트 객체 생성\n",
    "\n",
    "#     row_max = ws.max_row  #최대 행값 저장\n",
    "\n",
    "#     #for문 통해 2행~최대행까지 반복문\n",
    "#     #range(a,b+1) : a부터 b까지 반복하는 range 구문\n",
    "#     for  row  in  range(2, row_max+1):\n",
    "#     #함수 자동 작성\n",
    "#         ws[\"E\"+str(row)].value = \"=C\"+str(row)+\"*\"+\"D\"+str(row)\n",
    "\n",
    "#     wb.save(r\"result.xlsx\") #결과 엑셀파일 저장\n",
    "\n",
    "\n",
    "# def  loadData():\n",
    "#     #엑셀 직접 실행시키고 저장 및 종료\n",
    "#     excel = win32com.client.Dispatch(\"Excel.Application\")\n",
    "#     temp_wb = excel.Workbooks.Open(r\"result.xlsx\")\n",
    "#     temp_wb.Save()\n",
    "#     excel.quit()\n",
    "\n",
    "#     #openpyxl 통해 Workbook 객체 및 WorkSheet 객체 생성\n",
    "#     wb = op.load_workbook(r\"result.xlsx\", data_only=True)\n",
    "#     ws = wb.active\n",
    "\n",
    "#     #빈 리스트 생성\n",
    "#     data = []\n",
    "\n",
    "#     #ws.rows 속성 활용하여 for문 진행\n",
    "#     for  row  in  ws.rows:\n",
    "#         data.append(row[4].value) #E열 데이터를 리스트에 추가\n",
    "\n",
    "#     print(data) #최종 리스트 출력\n",
    "\n",
    "# if  __name__ == \"__main__\":\n",
    "#     writeFunc() #writeFunc 실행\n",
    "#     loadData() #loadData 실행\n"
   ]
  },
  {
   "cell_type": "markdown",
   "id": "aa16aff7",
   "metadata": {},
   "source": [
    "#### 3-1-6) 엑셀 서식 지정하기 - 기본"
   ]
  },
  {
   "cell_type": "code",
   "execution_count": null,
   "id": "bad64431",
   "metadata": {},
   "outputs": [
    {
     "ename": "AttributeError",
     "evalue": "'EmptyCell' object attribute 'value' is read-only",
     "output_type": "error",
     "traceback": [
      "\u001b[31m---------------------------------------------------------------------------\u001b[39m",
      "\u001b[31mAttributeError\u001b[39m                            Traceback (most recent call last)",
      "\u001b[36mCell\u001b[39m\u001b[36m \u001b[39m\u001b[32mIn[4]\u001b[39m\u001b[32m, line 12\u001b[39m\n\u001b[32m      8\u001b[39m ws = wb[\u001b[33m\"\u001b[39m\u001b[33mnew_sheet3\u001b[39m\u001b[33m\"\u001b[39m]\n\u001b[32m     10\u001b[39m \u001b[38;5;66;03m#font test1 : 직접 font 설정하기\u001b[39;00m\n\u001b[32m---> \u001b[39m\u001b[32m12\u001b[39m \u001b[43mws\u001b[49m\u001b[43m[\u001b[49m\u001b[33;43m\"\u001b[39;49m\u001b[33;43mB1\u001b[39;49m\u001b[33;43m\"\u001b[39;49m\u001b[43m]\u001b[49m\u001b[43m.\u001b[49m\u001b[43mvalue\u001b[49m = \u001b[33m\"\u001b[39m\u001b[33mFont Test1\u001b[39m\u001b[33m\"\u001b[39m\n\u001b[32m     13\u001b[39m ws[\u001b[33m\"\u001b[39m\u001b[33mB1\u001b[39m\u001b[33m\"\u001b[39m].font = Font(size=\u001b[32m20\u001b[39m, italic = \u001b[38;5;28;01mTrue\u001b[39;00m, bold = \u001b[38;5;28;01mTrue\u001b[39;00m)\n\u001b[32m     15\u001b[39m \u001b[38;5;66;03m#font test2 : format을 정해놓고 font 설정하기\u001b[39;00m\n",
      "\u001b[31mAttributeError\u001b[39m: 'EmptyCell' object attribute 'value' is read-only"
     ]
    }
   ],
   "source": [
    "import openpyxl as op\n",
    "from openpyxl.styles.fonts import Font\n",
    "\n",
    "#Workbook 및 Worksheet 객체 생성하기\n",
    "wb = op.Workbook()\n",
    "path = \"C:/Users/ASUS/Desktop/Python\"\n",
    "wb = op.load_workbook(path + \"/openpyxl_test.xlsx\")\n",
    "ws = wb[\"new_sheet3\"]\n",
    "\n",
    "#font test1 : 직접 font 설정하기\n",
    "\n",
    "ws[\"B1\"].value = \"Font Test1\"\n",
    "ws[\"B1\"].font = Font(size=20, italic = True, bold = True)\n",
    "\n",
    "#font test2 : format을 정해놓고 font 설정하기\n",
    "font_format = Font(size=12, name='굴림', color='FF000000')\n",
    "ws[\"B2\"].font = font_format\n",
    "\n",
    "#Workbook(엑셀) 저장 및 객체 닫기\n",
    "wb.save(\"test_result.xlsx\")\n",
    "wb.close()\n"
   ]
  },
  {
   "cell_type": "code",
   "execution_count": null,
   "id": "29fd4710",
   "metadata": {},
   "outputs": [],
   "source": []
  }
 ],
 "metadata": {
  "kernelspec": {
   "display_name": "Python 3",
   "language": "python",
   "name": "python3"
  },
  "language_info": {
   "codemirror_mode": {
    "name": "ipython",
    "version": 3
   },
   "file_extension": ".py",
   "mimetype": "text/x-python",
   "name": "python",
   "nbconvert_exporter": "python",
   "pygments_lexer": "ipython3",
   "version": "undefined.undefined.undefined"
  }
 },
 "nbformat": 4,
 "nbformat_minor": 5
}
