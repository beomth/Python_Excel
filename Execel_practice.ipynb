{
 "cells": [
  {
   "cell_type": "code",
   "execution_count": 2,
   "id": "b80e27bd",
   "metadata": {},
   "outputs": [],
   "source": [
    "import openpyxl as op #openpyl 모듈 import"
   ]
  },
  {
   "cell_type": "code",
   "execution_count": 4,
   "id": "ab3efada",
   "metadata": {},
   "outputs": [
    {
     "name": "stdout",
     "output_type": "stream",
     "text": [
      "<openpyxl.workbook.workbook.Workbook object at 0x000001E8C2345E50>\n"
     ]
    }
   ],
   "source": [
    "wb = op.Workbook() # 새로운 Workbook 객체 생성 (엑셀 파일 만들기)\n",
    "\n",
    "print(wb)\n",
    "\n",
    "wb.save(r\"C:\\Users\\ASUS\\Desktop\\Python\\openpyxl_test.xlsx\")"
   ]
  },
  {
   "cell_type": "code",
   "execution_count": null,
   "id": "3424ff38",
   "metadata": {},
   "outputs": [
    {
     "name": "stdout",
     "output_type": "stream",
     "text": [
      "<openpyxl.workbook.workbook.Workbook object at 0x000001E8C2F61590>\n"
     ]
    }
   ],
   "source": [
    "# 기존에 있는 workbook을 객체로 만들기기\n",
    "path = \"C:/Users/ASUS/Desktop/Python\" \n",
    "wb = op.load_workbook(path + \"/openpyxl_test.xlsx\")\n",
    "print(wb)"
   ]
  },
  {
   "cell_type": "code",
   "execution_count": 29,
   "id": "0e569a40",
   "metadata": {},
   "outputs": [
    {
     "name": "stdout",
     "output_type": "stream",
     "text": [
      "<Worksheet \"new_sheet1\">\n"
     ]
    }
   ],
   "source": [
    "wb = op.Workbook() #새로운 워크북 객체 생성\n",
    "\n",
    "ws = wb.create_sheet(\"new_sheet1\") # wb 객체를 통해 새로운시트 생성(시트명 : new_sheet1)\n",
    "\n",
    "print(ws)\n",
    "\n",
    "wb.save(\"openpyxl_test.xlsx\") # 해당 워크북 저장하기"
   ]
  },
  {
   "cell_type": "code",
   "execution_count": 30,
   "id": "fbf935f3",
   "metadata": {},
   "outputs": [
    {
     "name": "stdout",
     "output_type": "stream",
     "text": [
      "<Worksheet \"Sheet\">\n"
     ]
    }
   ],
   "source": [
    "ws = wb.active # 현재 활성화돼있는 시트 설정\n",
    "print(ws) "
   ]
  },
  {
   "cell_type": "code",
   "execution_count": null,
   "id": "df9df003",
   "metadata": {},
   "outputs": [],
   "source": []
  },
  {
   "cell_type": "code",
   "execution_count": 40,
   "id": "e0ddd61f",
   "metadata": {},
   "outputs": [
    {
     "name": "stdout",
     "output_type": "stream",
     "text": [
      "<Worksheet \"1\">\n",
      "<Worksheet \"2\">\n",
      "<Worksheet \"3\">\n",
      "<Worksheet \"4\">\n",
      "<Worksheet \"5\">\n"
     ]
    }
   ],
   "source": [
    "wb = op.load_workbook(r\"C:\\Users\\ASUS\\Desktop\\Python\\openpyxl_test.xlsx\")\n",
    "ws_list = wb.sheetnames # 해당 workbook의 시트 목록을 리스트로 저장\n",
    "\n",
    "for sht in ws_list:\n",
    "    ws = wb[sht] # Sheet 객체 생성\n",
    "    print(ws) # 객체 출력"
   ]
  }
 ],
 "metadata": {
  "kernelspec": {
   "display_name": "Python 3",
   "language": "python",
   "name": "python3"
  },
  "language_info": {
   "codemirror_mode": {
    "name": "ipython",
    "version": 3
   },
   "file_extension": ".py",
   "mimetype": "text/x-python",
   "name": "python",
   "nbconvert_exporter": "python",
   "pygments_lexer": "ipython3",
   "version": "3.13.4"
  }
 },
 "nbformat": 4,
 "nbformat_minor": 5
}
