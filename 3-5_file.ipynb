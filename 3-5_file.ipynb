{
 "cells": [
  {
   "cell_type": "markdown",
   "id": "c0e4dd1c",
   "metadata": {},
   "source": [
    "#### 경로 관련 라이브러리\n",
    "##### 1.os : os 모듈은 폴더(디렉터리) 생성 및 경로(path) 다룰 때\n",
    "##### 2.shutil : shutil 모듈은 파일을 복사하거나 이동시킬 때\n",
    "##### 3. glob : glob 모듈은 패턴을 사용하여 현재 폴더(디렉토리)는 물론 하위 경로의 파일들을 검색할 때"
   ]
  },
  {
   "cell_type": "markdown",
   "id": "9cfae42e",
   "metadata": {},
   "source": [
    "##### os 모듈은 기본적으로 파이썬 내장 라이브러리에 포함된 모듈. os뿐만 아니라 sys, time, random 모듈도 자주 사용함\n",
    "\n",
    "###### https://docs.python.org/ko/3/library/os.html 참고"
   ]
  },
  {
   "cell_type": "code",
   "execution_count": 1,
   "id": "de31310c",
   "metadata": {},
   "outputs": [
    {
     "name": "stdout",
     "output_type": "stream",
     "text": [
      "c:\\Users\\ASUS\\Desktop\\Python\n"
     ]
    }
   ],
   "source": [
    "import os\n",
    "\n",
    "# 현재 작업중인 경로를 문자열로 반환하는 getcwd()\n",
    "print(os.getcwd())"
   ]
  },
  {
   "cell_type": "code",
   "execution_count": 2,
   "id": "66862669",
   "metadata": {},
   "outputs": [],
   "source": [
    "# 괄호안에 '원하는 경로'+'/새로운 디렉토리'를 쓰면 디렉토리가 생성된다.\n",
    "# 이미 있는 디렉토리를 생성하려고 하면 에러 발생\n",
    "os.mkdir(\"/Users/ASUS/Desktop/Test_mkdir\")"
   ]
  },
  {
   "cell_type": "code",
   "execution_count": 6,
   "id": "aeb36795",
   "metadata": {},
   "outputs": [],
   "source": [
    "# os.mkdir와 비슷한데, 여러 디렉토리를 연달아 생성한다\n",
    "os.makedirs(\"/Users/ASUS/Desktop/Test_mkdi/a/b/c\")"
   ]
  },
  {
   "cell_type": "code",
   "execution_count": 7,
   "id": "21c704af",
   "metadata": {},
   "outputs": [
    {
     "name": "stdout",
     "output_type": "stream",
     "text": [
      "['.git', '.gitignore', '3-1-6_oepnpyxl.ipynb', '3-1-6_openpyxl.ipynb', '3-1-7_openpyxl.ipynb', '3-3-3_win32.ipynb', '3-3-4_win32.ipynb', '3-3-5_win32 - 복사본.ipynb', '3-3-6_win32.ipynb', '3-3-7_win32.ipynb', '3-3_openpyxl.ipynb', '3-4-1_Word.ipynb', '3-4-2_Word.ipynb', '3-4-3_Word.ipynb', '3-4-4_Word.ipynb', '3-5_file.ipynb', 'book_image.png', 'cat.jpg', 'openpyxl_test.xlsx', 'py1.py', 'pyxlwings.ipynb', 'pyxlwingss.py', 'random_number.ipynb', 'README.md', 'Test.docx', '예제 문서.docx']\n"
     ]
    }
   ],
   "source": [
    "# os.listdir()\n",
    "# 현재 작업 경로에 있는 파일, 디렉토리 리스트 얻기\n",
    "print(os.listdir(os.getcwd()))"
   ]
  },
  {
   "cell_type": "code",
   "execution_count": 8,
   "id": "83061fcf",
   "metadata": {},
   "outputs": [
    {
     "name": "stdout",
     "output_type": "stream",
     "text": [
      "c:\\Users\\ASUS\\Desktop\\Python\n",
      "c:\\Users\\ASUS\\Desktop\n"
     ]
    }
   ],
   "source": [
    "# os.chdir()\n",
    "# 현재 작업 경로를 원하는 경로로 변환\n",
    "print(os.getcwd())\n",
    "os.chdir(\"/Users/ASUS/Desktop/\")\n",
    "print(os.getcwd())"
   ]
  },
  {
   "cell_type": "code",
   "execution_count": null,
   "id": "fb535091",
   "metadata": {},
   "outputs": [
    {
     "name": "stdout",
     "output_type": "stream",
     "text": [
      "c:\\Users\\ASUS\\Desktop\n",
      "['APMSETUP Monitor.lnk', 'BurpSuiteCommunity', 'chrome.exe.lnk', 'Cisco Packet Tracer.lnk', 'desktop.ini', 'Intech_LauncherExe.exe.lnk', 'MapleStory Worlds.url', 'Notion.lnk', 'of_c2r_2021_kr_x64', 'Python', 'setup.exe', 'Test_mkdi', 'Test_mkdir', 'Zoom Workplace.lnk', 'µTorrent.lnk', '고클린.lnk', '기타', '내 PC.lnk', '자기소개서', '커리어 관리', '한글 2020.lnk']\n"
     ]
    }
   ],
   "source": [
    "# os.removedirs() \n",
    "# 디렉토리 제거하는 함수. 경로가 열려있거나 존재하지 않으면 에러 발생\n",
    "\n",
    "# os.remove() -> 파일을 제거하는 함수\n",
    "print(os.getcwd())\n",
    "print(os.listdir())\n",
    "\n",
    "os.removedirs(\"/Users/ASUS/Desktop/Test_mkdi/a/b/c\")"
   ]
  },
  {
   "cell_type": "code",
   "execution_count": 16,
   "id": "c3dd0a0c",
   "metadata": {},
   "outputs": [],
   "source": [
    "# os.rename(path1, path2)\n",
    "# 파일 이름을 바꾸는 함수\n",
    "\n",
    "os.rename(\"/Users/ASUS/Desktop/Test_mkdir/aaaaa.txt\",\n",
    "          \"/Users/ASUS/Desktop/Test_mkdir/bbccc.txt\")"
   ]
  },
  {
   "cell_type": "markdown",
   "id": "88fdb047",
   "metadata": {},
   "source": [
    "### glob Module\n",
    "##### 패턴을 사용하여 현재 폴더(디렉토리)는 물론 하위 경로의 파일들을 검색할 때"
   ]
  },
  {
   "cell_type": "code",
   "execution_count": 21,
   "id": "1344bba9",
   "metadata": {},
   "outputs": [
    {
     "name": "stdout",
     "output_type": "stream",
     "text": [
      "/Users/ASUS/Desktop/Python\\3-1-6_oepnpyxl.ipynb\n",
      "/Users/ASUS/Desktop/Python\\3-1-6_openpyxl.ipynb\n",
      "/Users/ASUS/Desktop/Python\\3-1-7_openpyxl.ipynb\n",
      "/Users/ASUS/Desktop/Python\\3-3-3_win32.ipynb\n",
      "/Users/ASUS/Desktop/Python\\3-3-4_win32.ipynb\n",
      "/Users/ASUS/Desktop/Python\\3-3-5_win32 - 복사본.ipynb\n",
      "/Users/ASUS/Desktop/Python\\3-3-6_win32.ipynb\n",
      "/Users/ASUS/Desktop/Python\\3-3-7_win32.ipynb\n",
      "/Users/ASUS/Desktop/Python\\3-3_openpyxl.ipynb\n",
      "/Users/ASUS/Desktop/Python\\3-4-1_Word.ipynb\n",
      "/Users/ASUS/Desktop/Python\\3-4-2_Word.ipynb\n",
      "/Users/ASUS/Desktop/Python\\3-4-3_Word.ipynb\n",
      "/Users/ASUS/Desktop/Python\\3-4-4_Word.ipynb\n",
      "/Users/ASUS/Desktop/Python\\3-5_file.ipynb\n",
      "/Users/ASUS/Desktop/Python\\pyxlwings.ipynb\n",
      "/Users/ASUS/Desktop/Python\\random_number.ipynb\n"
     ]
    }
   ],
   "source": [
    "import glob\n",
    "# 확장자를 정하지 않으려면 '경로/*.*'로 입력해주면 됨\n",
    "# glob.glob('참조하길 원하는 폴더의 경로/*.확장자')\n",
    "\n",
    "list_filepath = glob.glob(\"/Users/ASUS/Desktop/Python/*.ipynb\")\n",
    "\n",
    "for filepath in list_filepath:\n",
    "    print(filepath)"
   ]
  },
  {
   "cell_type": "code",
   "execution_count": 22,
   "id": "874efe5e",
   "metadata": {},
   "outputs": [
    {
     "name": "stdout",
     "output_type": "stream",
     "text": [
      "/Users/ASUS/Desktop/Python\\3-1-6_oepnpyxl.ipynb\n",
      "/Users/ASUS/Desktop/Python\\3-1-6_openpyxl.ipynb\n",
      "/Users/ASUS/Desktop/Python\\3-1-7_openpyxl.ipynb\n",
      "/Users/ASUS/Desktop/Python\\3-3-3_win32.ipynb\n",
      "/Users/ASUS/Desktop/Python\\3-3-4_win32.ipynb\n",
      "/Users/ASUS/Desktop/Python\\3-3-5_win32 - 복사본.ipynb\n",
      "/Users/ASUS/Desktop/Python\\3-3-6_win32.ipynb\n",
      "/Users/ASUS/Desktop/Python\\3-3-7_win32.ipynb\n",
      "/Users/ASUS/Desktop/Python\\3-3_openpyxl.ipynb\n",
      "/Users/ASUS/Desktop/Python\\3-4-1_Word.ipynb\n",
      "/Users/ASUS/Desktop/Python\\3-4-2_Word.ipynb\n",
      "/Users/ASUS/Desktop/Python\\3-4-3_Word.ipynb\n",
      "/Users/ASUS/Desktop/Python\\3-4-4_Word.ipynb\n",
      "/Users/ASUS/Desktop/Python\\3-5_file.ipynb\n",
      "/Users/ASUS/Desktop/Python\\pyxlwings.ipynb\n",
      "/Users/ASUS/Desktop/Python\\random_number.ipynb\n"
     ]
    }
   ],
   "source": [
    "# 하위폴더까지 참조하고 싶을 때\n",
    "\n",
    "import glob\n",
    "\n",
    "list_filepath = glob.glob(\"/Users/ASUS/Desktop/Python/**/*.ipynb\", recursive=True)\n",
    "\n",
    "for filepath in list_filepath:\n",
    "    print(filepath)"
   ]
  },
  {
   "cell_type": "markdown",
   "id": "31604729",
   "metadata": {},
   "source": [
    "## shutil Module\n",
    "##### 파일을 복사하거나 이동시킬 때\n",
    "##### os 모듈과 같이 파이썬 내장 라이브러리에 포함되어있음"
   ]
  },
  {
   "cell_type": "code",
   "execution_count": 23,
   "id": "35aab0ec",
   "metadata": {},
   "outputs": [
    {
     "data": {
      "text/plain": [
       "'TestFolder'"
      ]
     },
     "execution_count": 23,
     "metadata": {},
     "output_type": "execute_result"
    }
   ],
   "source": [
    "import shutil\n",
    "\n",
    "# 상대경로 방식\n",
    "# 방법1 - 파일과 폴더가 현재 작업경로에 있는 경우에만 가능\n",
    "# shutil.move('이동시킬 파일명.확장자, '파일을 이동시킬 폴더명')\n",
    "\n",
    "shutil.move(\"Test_mkdir\", 'TestFolder')"
   ]
  },
  {
   "cell_type": "code",
   "execution_count": 24,
   "id": "32aff8cb",
   "metadata": {},
   "outputs": [
    {
     "data": {
      "text/plain": [
       "'/Users/ASUS/Desktop/TestFolder\\\\cat.jpg'"
      ]
     },
     "execution_count": 24,
     "metadata": {},
     "output_type": "execute_result"
    }
   ],
   "source": [
    "#절대경로 방식\n",
    "# 방법 2 - 현재 작업경로와 상관없이 절대경로를 입력\n",
    "# shutil.move('이동시킬 파일 경로', '파일을 이동시킬 폴더의 경로')\n",
    "\n",
    "shutil.move(\"/Users/ASUS/Desktop/Python/cat.jpg\", \"/Users/ASUS/Desktop/TestFolder\")"
   ]
  },
  {
   "cell_type": "code",
   "execution_count": 25,
   "id": "450bdd4d",
   "metadata": {},
   "outputs": [],
   "source": [
    "os.mkdir(\"/Users/ASUS/Desktop/Test1\")\n",
    "os.mkdir(\"/Users/ASUS/Desktop/Test2\")"
   ]
  },
  {
   "cell_type": "code",
   "execution_count": 26,
   "id": "cc485ddf",
   "metadata": {},
   "outputs": [
    {
     "name": "stdout",
     "output_type": "stream",
     "text": [
      "c:\\Users\\ASUS\\Desktop\n"
     ]
    }
   ],
   "source": [
    "print(os.getcwd())"
   ]
  },
  {
   "cell_type": "code",
   "execution_count": null,
   "id": "ac2d0d60",
   "metadata": {},
   "outputs": [
    {
     "data": {
      "text/plain": [
       "'Test2\\\\Test1'"
      ]
     },
     "execution_count": 27,
     "metadata": {},
     "output_type": "execute_result"
    }
   ],
   "source": [
    "# 폴더가 존재하는 경우\n",
    "# (이동시킬 폴더명, 이동할 폴더명)\n",
    "shutil.move(\"Test1\", \"Test2\")"
   ]
  },
  {
   "cell_type": "code",
   "execution_count": 28,
   "id": "f9064869",
   "metadata": {},
   "outputs": [
    {
     "data": {
      "text/plain": [
       "'Test'"
      ]
     },
     "execution_count": 28,
     "metadata": {},
     "output_type": "execute_result"
    }
   ],
   "source": [
    "shutil.move(\"Test2\", \"Test\")"
   ]
  },
  {
   "cell_type": "code",
   "execution_count": null,
   "id": "ef942f73",
   "metadata": {},
   "outputs": [],
   "source": []
  }
 ],
 "metadata": {
  "kernelspec": {
   "display_name": "Python 3",
   "language": "python",
   "name": "python3"
  },
  "language_info": {
   "codemirror_mode": {
    "name": "ipython",
    "version": 3
   },
   "file_extension": ".py",
   "mimetype": "text/x-python",
   "name": "python",
   "nbconvert_exporter": "python",
   "pygments_lexer": "ipython3",
   "version": "3.13.4"
  }
 },
 "nbformat": 4,
 "nbformat_minor": 5
}
