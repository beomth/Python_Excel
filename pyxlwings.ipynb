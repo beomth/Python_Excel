{
 "cells": [
  {
   "cell_type": "markdown",
   "id": "42be8d91",
   "metadata": {},
   "source": [
    "#### 3-2_xlwings"
   ]
  },
  {
   "cell_type": "markdown",
   "id": "f735a3b0",
   "metadata": {},
   "source": [
    "##### 3-2 VBA에서 python 실행시키는 건 .py만 가능!! "
   ]
  },
  {
   "cell_type": "code",
   "execution_count": 1,
   "id": "be5dfd02",
   "metadata": {},
   "outputs": [],
   "source": [
    "import xlwings\n",
    "\n",
    "def main() :\n",
    "    #xlwings 통해 Workbook 호출\n",
    "    wb = xlwings.Book.caller()\n",
    "\n",
    "    #Sheet 설정\n",
    "    sheet = wb.sheets[0]\n",
    "\n",
    "    #텍스트 입력\n",
    "    sheet[\"A1\"].value = \"xlwings 테스트 코드 작성\"\n",
    "    sheet[\"A2\"].value = \"파이썬 업무 자동화\"\n",
    "\n",
    "if __name__== \"__main__\":\n",
    "    path = r\"C:/Users/ASUS/Desktop/Python/\"\n",
    "    #매크로 파일 설정\n",
    "    xlwings.Book(path+\"xlwings_practice.xlsm\").set_mock_caller()\n",
    "    #main 함수 호출\n",
    "    main()"
   ]
  },
  {
   "cell_type": "markdown",
   "id": "79afa6ac",
   "metadata": {},
   "source": [
    "##### "
   ]
  },
  {
   "cell_type": "code",
   "execution_count": null,
   "id": "f0f3da93",
   "metadata": {},
   "outputs": [],
   "source": []
  },
  {
   "cell_type": "code",
   "execution_count": null,
   "id": "a9ebfc78",
   "metadata": {},
   "outputs": [],
   "source": []
  }
 ],
 "metadata": {
  "kernelspec": {
   "display_name": "Python 3",
   "language": "python",
   "name": "python3"
  },
  "language_info": {
   "codemirror_mode": {
    "name": "ipython",
    "version": 3
   },
   "file_extension": ".py",
   "mimetype": "text/x-python",
   "name": "python",
   "nbconvert_exporter": "python",
   "pygments_lexer": "ipython3",
   "version": "3.13.4"
  }
 },
 "nbformat": 4,
 "nbformat_minor": 5
}
