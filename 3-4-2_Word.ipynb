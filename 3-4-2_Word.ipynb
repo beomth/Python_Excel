{
 "cells": [
  {
   "cell_type": "markdown",
   "id": "19c4322f",
   "metadata": {},
   "source": [
    "##### 3-4-2) 이미지 삽입, 표 삽입"
   ]
  },
  {
   "cell_type": "code",
   "execution_count": 5,
   "id": "349c3164",
   "metadata": {},
   "outputs": [],
   "source": [
    "# Cm와 Inch 단위를 사용하기 위한 모듈\n",
    "from docx.shared import Cm, Inches\n",
    "from docx import Document\n",
    "\n",
    "doc = Document()\n",
    "\n",
    "# 사진 크기를 cm 단위로 설정하여 삽입\n",
    "doc.add_picture('cat.jpg', width=Cm(16), height=Cm(9))\n",
    "\n",
    "# 사진 크기를 Inch 단위로 설정하여 삽입\n",
    "doc.add_picture('cat.jpg', width=Inches(4), height=Inches(3))\n",
    "\n",
    "path = r\"C:\\Users\\ASUS\\Desktop\\Python\"\n",
    "doc.save(path + \"/이미지 삽입.docx\")\n"
   ]
  },
  {
   "cell_type": "markdown",
   "id": "560ff6a2",
   "metadata": {},
   "source": [
    "##### 표 삽입"
   ]
  },
  {
   "cell_type": "code",
   "execution_count": 7,
   "id": "895b3e4c",
   "metadata": {},
   "outputs": [],
   "source": [
    "# 새로운 문서 만들기\n",
    "doc = Document()\n",
    "\n",
    "# 2행 3열의 표 만들기\n",
    "table = doc.add_table(rows = 2, cols = 3)\n",
    "\n",
    "# 만든 표의 스타일을 가장 기본 스타일인 'Table Grid'로 설정\n",
    "table.style = doc.styles['Table Grid']\n",
    "\n",
    "# 저장\n",
    "doc.save(path + '/표 삽입.docx')"
   ]
  },
  {
   "cell_type": "code",
   "execution_count": 11,
   "id": "e130be64",
   "metadata": {},
   "outputs": [],
   "source": [
    "# 표의 첫 행을 리스트로 가져오기\n",
    "first_row = table.rows[0].cells\n",
    "\n",
    "# 첫 행의 각 열들에 접근해서 값 입력\n",
    "first_row[0].text = 'a'\n",
    "first_row[1].text = 'b'\n",
    "first_row[2].text = 'c'\n",
    "\n",
    "# 표의 두번째 행을 리스트로 가져온 후, 각 셀에 값 입력\n",
    "second_row = table.rows[1].cells\n",
    "second_row[0].text = 'd'\n",
    "second_row[1].text = 'e'\n",
    "second_row[2].text = 'f'\n",
    "\n",
    "doc.save(path + '/표 삽입.docx')"
   ]
  },
  {
   "cell_type": "code",
   "execution_count": null,
   "id": "be08f7ec",
   "metadata": {},
   "outputs": [],
   "source": [
    "#행 추가 / 굳이 변수에 대입한 이유는, 나중에 새로 만든 셀들에 값을 입력할 때 인덱싱하여 생성 가능\n",
    "row_cells = table.add_row().cells\n",
    "\n",
    "#열 추가/ 반드시 width입력해줘야함!\n",
    "col_cells = table.add_column(width=Cm(2)).cells\n",
    "\n",
    "doc.save(path + '/표 삽입.docx')"
   ]
  },
  {
   "cell_type": "code",
   "execution_count": null,
   "id": "eaad00d0",
   "metadata": {},
   "outputs": [],
   "source": [
    "# 현재는 그냥 새 워드문서가 파이썬 상에서만 존재하는 상태\n",
    "# 실제 워드 파일로 만들고 싶으면 아래 코드로 객체 저장\n",
    "\n",
    "# 새 문서\n",
    "doc = Document()\n",
    "\n",
    "# 제목\n",
    "doc.add_heading('가장 큰 제목 (아래에 밑줄)', level=0)\n",
    "doc.add_heading('제목 크기, H1', level=1)\n",
    "doc.add_heading('제목 크기, H2', level=2)\n",
    "doc.add_heading('제목 크기, H3', level=3)\n",
    "doc.add_heading('제목 크기, H4', level=4)\n",
    "doc.add_heading('제목 크기, H5', level=5)\n",
    "doc.add_heading('제목 크기, H6', level=6)\n",
    "\n",
    "# 저장 경로\n",
    "path = r\"C:\\Users\\ASUS\\Desktop\\Python\"\n",
    "doc.save(os.path.join(path, \"저장하고 싶은 파일명.docx\"))"
   ]
  },
  {
   "cell_type": "code",
   "execution_count": null,
   "id": "818adbf6",
   "metadata": {},
   "outputs": [],
   "source": []
  }
 ],
 "metadata": {
  "kernelspec": {
   "display_name": "Python 3",
   "language": "python",
   "name": "python3"
  },
  "language_info": {
   "codemirror_mode": {
    "name": "ipython",
    "version": 3
   },
   "file_extension": ".py",
   "mimetype": "text/x-python",
   "name": "python",
   "nbconvert_exporter": "python",
   "pygments_lexer": "ipython3",
   "version": "3.13.4"
  }
 },
 "nbformat": 4,
 "nbformat_minor": 5
}
