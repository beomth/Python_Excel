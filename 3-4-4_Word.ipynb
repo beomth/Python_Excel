{
 "cells": [
  {
   "cell_type": "markdown",
   "id": "88cad1fa",
   "metadata": {},
   "source": [
    "##### 3-4-4) 글자 폰트, 크기, 색깔 변경"
   ]
  },
  {
   "cell_type": "code",
   "execution_count": 2,
   "id": "90adf53e",
   "metadata": {},
   "outputs": [],
   "source": [
    "from docx import Document\n",
    "\n",
    "# 새로운 문서 만들기\n",
    "doc = Document()\n",
    "\n",
    "# 스타일 적용하기\n",
    "style = doc.styles['Normal']\n",
    "font = style.font\n",
    "font.name = 'Arial'\n",
    "\n",
    "para = doc.add_paragraph('Some text\\n')\n",
    "\n",
    "para.add_run('코딩유치원에 오신 것을 환영합니다!').BOLD = True\n",
    "\n",
    "run = doc.paragraphs[0].runs[0]\n",
    "\n",
    "run.font.name = 'Arial'\n",
    "\n",
    "doc.save('Test.docx')"
   ]
  },
  {
   "cell_type": "markdown",
   "id": "44338f86",
   "metadata": {},
   "source": [
    "##### 한글을 아래와 같이 해줘야 함!!"
   ]
  },
  {
   "cell_type": "code",
   "execution_count": 10,
   "id": "942df231",
   "metadata": {},
   "outputs": [],
   "source": [
    "from docx import Document\n",
    "from docx.oxml.ns import qn\n",
    "from docx.shared import Pt\n",
    "\n",
    "doc = Document('Test.docx')\n",
    "\n",
    "style = doc.styles['Normal']\n",
    "\n",
    "# rPr (run properties)가 없으면 생성\n",
    "rPr = style._element.get_or_add_rPr()\n",
    "\n",
    "# 동아시아 글꼴 설정\n",
    "rFonts = rPr.rFonts\n",
    "rFonts.set(qn('w:eastAsia'), '맑은 고딕')\n",
    "\n",
    "# 서양 글꼴 설정\n",
    "style.font.name = '맑은 고딕'\n",
    "\n",
    "# 글꼴 크기 설정\n",
    "style.font.size = Pt(20)\n",
    "\n",
    "para = doc.add_paragraph('맑은 고딕체 테스트')\n",
    "\n",
    "doc.save('Test.docx')\n"
   ]
  },
  {
   "cell_type": "code",
   "execution_count": null,
   "id": "9c8dd93c",
   "metadata": {},
   "outputs": [],
   "source": []
  }
 ],
 "metadata": {
  "kernelspec": {
   "display_name": "Python 3",
   "language": "python",
   "name": "python3"
  },
  "language_info": {
   "codemirror_mode": {
    "name": "ipython",
    "version": 3
   },
   "file_extension": ".py",
   "mimetype": "text/x-python",
   "name": "python",
   "nbconvert_exporter": "python",
   "pygments_lexer": "ipython3",
   "version": "3.13.4"
  }
 },
 "nbformat": 4,
 "nbformat_minor": 5
}
