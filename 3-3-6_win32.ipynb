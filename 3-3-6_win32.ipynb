{
 "cells": [
  {
   "cell_type": "markdown",
   "id": "66306809",
   "metadata": {},
   "source": [
    "##### 3-3-6)Win32com 통해 엑셀 다루기 - 차트"
   ]
  },
  {
   "cell_type": "code",
   "execution_count": 3,
   "id": "2903d4d4",
   "metadata": {},
   "outputs": [],
   "source": [
    "import win32com.client\n",
    "import pythoncom\n",
    "\n",
    "pythoncom.CoInitialize()\n",
    "\n",
    "excel = win32com.client.Dispatch(\"Excel.Application\")\n",
    "excel.Visible = True"
   ]
  },
  {
   "cell_type": "code",
   "execution_count": 4,
   "id": "2bc6b77a",
   "metadata": {},
   "outputs": [],
   "source": [
    "wb = excel.Workbooks.Open(r\"C:\\Users\\ASUS\\Desktop\\Python\\chart_data.xlsx\")\n",
    "\n",
    "ws = wb.ActiveSheet"
   ]
  },
  {
   "cell_type": "code",
   "execution_count": 5,
   "id": "71ad7aa3",
   "metadata": {},
   "outputs": [],
   "source": [
    "#차트를 새로 추가하고 선택하기\n",
    "ws.Shapes.AddChart().Select()"
   ]
  },
  {
   "cell_type": "code",
   "execution_count": 8,
   "id": "530b9b14",
   "metadata": {},
   "outputs": [],
   "source": [
    "excel.ActiveChart.SetSourceData(Source=ws.Range(\"A1:B9\"))"
   ]
  },
  {
   "cell_type": "markdown",
   "id": "33eab97f",
   "metadata": {},
   "source": [
    "##### 차트 생성시 옵션"
   ]
  },
  {
   "cell_type": "code",
   "execution_count": 10,
   "id": "5da54df7",
   "metadata": {},
   "outputs": [],
   "source": [
    "#꺾은선 차트 생성\n",
    "chart = ws.Shapes.AddChart(60).Select()\n",
    "#데이터 범위 설정\n",
    "excel.ActiveChart.SetSourceData(Source=ws.Range(\"A1:B9\"))"
   ]
  },
  {
   "cell_type": "code",
   "execution_count": null,
   "id": "fb501643",
   "metadata": {},
   "outputs": [],
   "source": [
    "#Worksheet객체명.Shapes.AddChart(차트타입, x축 위치, y축 위치, 가로크기, 세로크기)\n",
    "chart = ws.Shapes.AddChart(4,100,100,200,200).Select() # 막대 차트 200*200 크기 생성\n",
    "excel.ActiveChart.SetSourceData(Source=ws.Range(\"A1:B9\"))"
   ]
  },
  {
   "cell_type": "code",
   "execution_count": null,
   "id": "f7a8d3f3",
   "metadata": {},
   "outputs": [],
   "source": [
    "#차트 제목 나오게(False면 안보임)\n",
    "excel.ActiveChart.HasTitle = True \n",
    "\n",
    "#차트 제목 설정asd\n",
    "excel.ActiveChart.Charttitle.Text = \"국어 과목\" \n",
    "\n",
    "#차트 제목 글씨 크기\n",
    "excel.ActiveChart.Charttitle.Characters.Font.Size=14\n",
    "\n",
    "#차트 제목 색상(파란색)\n",
    "excel.ActiveChart.Charttitle.Characters.Font.ColorIndex = 5\n",
    "\n",
    "#제목 굵게 \n",
    "excel.ActiveChart.Charttitle.Characters.Font.Bold=True \n"
   ]
  },
  {
   "cell_type": "markdown",
   "id": "f8dc5ff5",
   "metadata": {},
   "source": []
  },
  {
   "cell_type": "code",
   "execution_count": null,
   "id": "65aec0a5",
   "metadata": {},
   "outputs": [],
   "source": [
    "#차트 범례 보이게(Fasle면 안보임)\n",
    "excel.ActiveChart.HasLegend = True \n",
    "\n",
    "#차트 범례 글씨 크기\n",
    "excel.ActiveChart.Legend.Font.Size = 15 \n",
    "\n",
    "#차트 범례 굵게\n",
    "excel.ActiveChart.Legend.Font.Bold = True \n",
    "\n",
    "#차트 범례색상 설정(파란색)\n",
    "excel.ActiveChart.Legend.Font.ColorIndex = 5 \n"
   ]
  },
  {
   "cell_type": "markdown",
   "id": "5ceca4ce",
   "metadata": {},
   "source": []
  }
 ],
 "metadata": {
  "kernelspec": {
   "display_name": "Python 3",
   "language": "python",
   "name": "python3"
  },
  "language_info": {
   "codemirror_mode": {
    "name": "ipython",
    "version": 3
   },
   "file_extension": ".py",
   "mimetype": "text/x-python",
   "name": "python",
   "nbconvert_exporter": "python",
   "pygments_lexer": "ipython3",
   "version": "3.13.4"
  }
 },
 "nbformat": 4,
 "nbformat_minor": 5
}
